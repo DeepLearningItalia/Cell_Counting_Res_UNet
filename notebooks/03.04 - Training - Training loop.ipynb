{
 "cells": [
  {
   "cell_type": "markdown",
   "id": "685c04df",
   "metadata": {},
   "source": [
    "# Training loop\n",
    "\n",
    "In questo notebook analizzeremo i vari passaggi necessari per il training di un modello.\n",
    "\n",
    "In breve, un ciclo di addestramento si caratterizza di 3 fasi:\n",
    "\n",
    " - dataloader\n",
    " - training step\n",
    " - validation step\n",
    " \n",
    "Sebbene la maggior parte delle librerie per ML fornisca delle utils già predisposte per eseguire questi passaggi, avere una panoramica delle varie fasi diventa fondamentale nel caso ci sia bisogno di **modifiche personalizzate** e per fini di **debugging**.  "
   ]
  },
  {
   "cell_type": "markdown",
   "id": "722fde69",
   "metadata": {},
   "source": [
    "## Dataloader\n",
    "\n",
    "Il `Dataloader` è l'oggetto responsabile di leggere opportunamente i dati, accoppiare opportunamente input ed output, trasferirli dal disco in memoria sotto forma di **batch** e renderli disponibili per il processo di training.\n",
    "\n",
    "La libreria fastai mette a disposizione diversi dataloader che implementano le operazioni fondamentali a seconda del task di learning in esame. Queste implementazioni sono tipicamente già sufficienti per use-case più studiati come il nostro, per questo motivo potremo sfruttare direttamente la classe `SegmentationDataLoaders` [[1]](https://docs.fast.ai/vision.data.html#segmentationdataloaders).\n",
    "\n",
    "In particolare, potremo sfruttare l'implementazione del metodo `SegmentationDataLoaders.from_label_func()` e basterà predisporre i blocchi necessari per il suo funzionamento:\n",
    "\n",
    " - *path*: percoso dove sono i dati\n",
    " - *fnames*: lista percorsi di ciascun file di input\n",
    " - *label_func*: funzione che permette di associare a ciascun input la relativa annotazione\n",
    " - *bs*: batch size\n",
    " - *splitter*: funzione che restituisce `True` se il file appartiene al validation set, `False` altrimenti\n",
    " - *item_tfms*: transformazioni da applicare sui singoli file di input, prima del raggruppamento in batch\n",
    " - *batch_tfms*: trasformazioni da applicare a ciascun batch\n",
    " - *device*: dove caricare il batch risultante; \"cuda\" per usare GPU \n",
    "\n",
    "\n"
   ]
  },
  {
   "cell_type": "markdown",
   "id": "7a005a2e",
   "metadata": {},
   "source": [
    "###  Percorsi immagini di train e validation\n",
    "\n",
    "Per prima cosa raccogliamo in una lista i path completi di tutte le immagini di training e validation."
   ]
  },
  {
   "cell_type": "code",
   "execution_count": 1,
   "id": "10fee62c",
   "metadata": {
    "ExecuteTime": {
     "end_time": "2022-09-01T08:23:37.833335Z",
     "start_time": "2022-09-01T08:23:36.215468Z"
    }
   },
   "outputs": [
    {
     "data": {
      "text/plain": [
       "[Path('../fluocells_data/all_images/images/Mar26bS2C1R2_LHl_200x_y.png'),\n",
       " Path('../fluocells_data/all_images/images/Mar26bS1C2R1_VLPAGr_200x_y.png'),\n",
       " Path('../fluocells_data/all_images/images/Mar26bS1C1R4_VLPAGl_200x_y.png'),\n",
       " Path('../fluocells_data/all_images/images/MAR38S1C3R1_DMR_20_o.png'),\n",
       " Path('../fluocells_data/all_images/images/Mar19bS1C4R3_DMl_200x_y.png'),\n",
       " Path('../fluocells_data/all_images/images/Mar20bS2C1R1_LHl_200x_y.png'),\n",
       " Path('../fluocells_data/all_images/images/Mar24bS1C2R3_LHr_200x_y.png'),\n",
       " Path('../fluocells_data/all_images/images/Mar26bS2C2R1_LHr_200x_y.png'),\n",
       " Path('../fluocells_data/all_images/images/Mar21bS1C1R3_VLPAGr_200x_y.png'),\n",
       " Path('../fluocells_data/all_images/images/Mar21bS1C4R2_LHl_200x_y.png'),\n",
       " Path('../fluocells_data/all_images/images/Mar37S1C2R1_DMr_200x_o.png'),\n",
       " Path('../fluocells_data/all_images/images/Mar22bS2C1R1_LHl_200x_y.png'),\n",
       " Path('../fluocells_data/all_images/images/Mar23bS1C2R4_VLPAGl_200x_y.png'),\n",
       " Path('../fluocells_data/all_images/images/Mar26bS2C3R1_LHr_200x_y.png'),\n",
       " Path('../fluocells_data/all_images/images/Mar19bS1C3R3_VLPAGr_200x_y.png'),\n",
       " Path('../fluocells_data/all_images/images/Mar19bS1C2R2_VLPAGl_200x_y.png'),\n",
       " Path('../fluocells_data/all_images/images/Mar21bS2C1R2_LHr_200x_y.png'),\n",
       " Path('../fluocells_data/all_images/images/Mar21bS2C1R1_LHr_200x_y.png'),\n",
       " Path('../fluocells_data/all_images/images/Mar21bS1C2R1_VLPAGl_200x_y.png'),\n",
       " Path('../fluocells_data/all_images/images/Mar19bS2C1R1_DMr_200x_y.png'),\n",
       " Path('../fluocells_data/all_images/images/Mar22bS1C1R3_VLPAGr_200x_y.png'),\n",
       " Path('../fluocells_data/all_images/images/Mar19bS1C4R2_LHr_200x_y.png'),\n",
       " Path('../fluocells_data/all_images/images/Mar24bS2C2R2_VLPAGr_200x_y.png'),\n",
       " Path('../fluocells_data/all_images/images/MAR39S2C2R2_DMR_200x_o.png'),\n",
       " Path('../fluocells_data/all_images/images/MAR55S3C2R2_VLPAGR_20_o.png'),\n",
       " Path('../fluocells_data/all_images/images/Mar24bS1C3R2_LHl_200x_y.png'),\n",
       " Path('../fluocells_data/all_images/images/Mar24bS1C2R2_LHl_200x_y.png'),\n",
       " Path('../fluocells_data/all_images/images/MAR55S3C2R2_VLPAGL_20_o.png'),\n",
       " Path('../fluocells_data/all_images/images/38_y.png'),\n",
       " Path('../fluocells_data/all_images/images/Mar22bS1C1R3_VLPAGl_200x_y.png'),\n",
       " Path('../fluocells_data/all_images/images/Mar20bS1C4R1_DMl_200x_y.png'),\n",
       " Path('../fluocells_data/all_images/images/Mar19bS1C5R3_DMl_200x_y.png'),\n",
       " Path('../fluocells_data/all_images/images/Mar19bS1C4R2_DMr_200x_y.png'),\n",
       " Path('../fluocells_data/all_images/images/Mar22bS1C3R3_LHr_200x_y.png'),\n",
       " Path('../fluocells_data/all_images/images/Mar26bS2C1R1_LHr_200x_y.png'),\n",
       " Path('../fluocells_data/all_images/images/Mar24bS1C2R1_LHl_200x_y.png'),\n",
       " Path('../fluocells_data/all_images/images/Mar23bS1C6R1_DMr_200x_y.png'),\n",
       " Path('../fluocells_data/all_images/images/Mar19bS1C5R1_LHr_200x_y.png'),\n",
       " Path('../fluocells_data/all_images/images/Mar19bS1C2R3_VLPAGl_200x_y.png'),\n",
       " Path('../fluocells_data/all_images/images/Mar36bS1C6R2_DMr_200x_y.png'),\n",
       " Path('../fluocells_data/all_images/images/Mar21bS2C2R2_LHr_200x_y.png'),\n",
       " Path('../fluocells_data/all_images/images/Mar23bS1C5R3_DMr_200x_y.png'),\n",
       " Path('../fluocells_data/all_images/images/Mar27bS1C1R3_VLPAGr_200x_y.png'),\n",
       " Path('../fluocells_data/all_images/images/Mar20bS2C1R3_LHr_200x_y.png'),\n",
       " Path('../fluocells_data/all_images/images/Mar40S3C4R2_VLPAGr_200x_o.png'),\n",
       " Path('../fluocells_data/all_images/images/Mar26bS2C2R3_LHl_200x_y.png'),\n",
       " Path('../fluocells_data/all_images/images/Mar24bS1C1R2_DMl_200x_y.png'),\n",
       " Path('../fluocells_data/all_images/images/Mar21bS2C1R3_DMl_200x_y.png'),\n",
       " Path('../fluocells_data/all_images/images/Mar20bS2C1R3_LHl_200x_y.png'),\n",
       " Path('../fluocells_data/all_images/images/Mar20bS1C4R3_LHl_200x_y.png'),\n",
       " Path('../fluocells_data/all_images/images/MAR38S1C3R1_LHR_20_o.png'),\n",
       " Path('../fluocells_data/all_images/images/Mar24bS1C2R2_DMr_200x_y.png'),\n",
       " Path('../fluocells_data/all_images/images/Mar20bS1C3R1_VLPAGr_200x_y.png'),\n",
       " Path('../fluocells_data/all_images/images/Mar22bS1C4R1_LHr_200x_y.png'),\n",
       " Path('../fluocells_data/all_images/images/Mar22bS1C4R2_LHr_200x_y.png'),\n",
       " Path('../fluocells_data/all_images/images/Mar21bS1C4R2_DMr_200x_y.png'),\n",
       " Path('../fluocells_data/all_images/images/Mar20bS2C1R2_DMr_200x_y.png'),\n",
       " Path('../fluocells_data/all_images/images/MAR38S1C3R1_DML_20_o.png'),\n",
       " Path('../fluocells_data/all_images/images/Mar20bS1C4R1_DMr_200x_y.png'),\n",
       " Path('../fluocells_data/all_images/images/Mar19bS1C4R1_VLPAGr_200x_y.png'),\n",
       " Path('../fluocells_data/all_images/images/Mar21bS2C1R3_DMr_200x_y.png'),\n",
       " Path('../fluocells_data/all_images/images/Mar26bS1C4R3_LHr_200x_y.png'),\n",
       " Path('../fluocells_data/all_images/images/Mar22bS1C4R1_LHl_200x_y.png'),\n",
       " Path('../fluocells_data/all_images/images/Mar21bS1C4R2_DMl_200x_y.png'),\n",
       " Path('../fluocells_data/all_images/images/Mar26bS2C2R2_DMl_200x_y.png'),\n",
       " Path('../fluocells_data/all_images/images/Mar24bS1C2R1_LHr_200x_y.png'),\n",
       " Path('../fluocells_data/all_images/images/Mar24bS1C2R2_DMl_200x_y.png'),\n",
       " Path('../fluocells_data/all_images/images/Mar22bS1C3R2_DMr_200x_y.png'),\n",
       " Path('../fluocells_data/all_images/images/Mar21bS2C2R1_LHl_200x_y.png'),\n",
       " Path('../fluocells_data/all_images/images/Mar26bS1C4R2_LHr_200x_y.png'),\n",
       " Path('../fluocells_data/all_images/images/Mar19bS1C1R3_VLPAGl_200x_y.png'),\n",
       " Path('../fluocells_data/all_images/images/Mar21bS2C2R3_LHl_200x_y.png'),\n",
       " Path('../fluocells_data/all_images/images/Mar26bS1C2R3_VLPAGl_200x_y.png'),\n",
       " Path('../fluocells_data/all_images/images/Mar19bS2C2R1_LHl_200x_y.png'),\n",
       " Path('../fluocells_data/all_images/images/Mar26bS2C1R1_DMl_200x_y.png'),\n",
       " Path('../fluocells_data/all_images/images/Mar41S3C1R1_DMr_200x_o.png'),\n",
       " Path('../fluocells_data/all_images/images/Mar23bS1C6R1_LHl_200x_y.png'),\n",
       " Path('../fluocells_data/all_images/images/Mar23bS1C6R2_LHr_200x_y.png'),\n",
       " Path('../fluocells_data/all_images/images/Mar26bS2C3R1_LHl_200x_y.png'),\n",
       " Path('../fluocells_data/all_images/images/Mar19bS1C4R3_DMr_200x_y.png'),\n",
       " Path('../fluocells_data/all_images/images/Mar24bS2C1R3_VLPAGl_200x_y.png'),\n",
       " Path('../fluocells_data/all_images/images/Mar19bS2C1R2_LHr_200x_y.png'),\n",
       " Path('../fluocells_data/all_images/images/Mar21bS2C2R1_LHr_200x_y.png'),\n",
       " Path('../fluocells_data/all_images/images/Mar20bS2C1R3_DMr_200x_y.png'),\n",
       " Path('../fluocells_data/all_images/images/Mar26bS1C4R3_DMl_200x_y.png'),\n",
       " Path('../fluocells_data/all_images/images/Mar19bS1C2R2_VLPAGr_200x_y.png'),\n",
       " Path('../fluocells_data/all_images/images/Mar22bS2C1R1_LHr_200x_y.png'),\n",
       " Path('../fluocells_data/all_images/images/Mar23bS1C5R3_LHl_200x_y.png'),\n",
       " Path('../fluocells_data/all_images/images/Mar26bS1C2R1_VLPAGl_200x_y.png'),\n",
       " Path('../fluocells_data/all_images/images/Mar24bS1C2R3_DMl_200x_y.png'),\n",
       " Path('../fluocells_data/all_images/images/Mar20bS2C2R3_LHl_200x_y.png'),\n",
       " Path('../fluocells_data/all_images/images/MAR39S2C2R2_DML_200x_o.png'),\n",
       " Path('../fluocells_data/all_images/images/Mar24bS1C1R2_LHl_200x_y.png'),\n",
       " Path('../fluocells_data/all_images/images/Mar26bS1C2R3_VLPAGr_200x_y.png'),\n",
       " Path('../fluocells_data/all_images/images/Mar26bS1C4R3_LHl_200x_y.png'),\n",
       " Path('../fluocells_data/all_images/images/Mar22bS1C5R1_LHl_200x_y.png'),\n",
       " Path('../fluocells_data/all_images/images/Mar20bS1C3R2_VLPAGr_200x_y.png'),\n",
       " Path('../fluocells_data/all_images/images/Mar23bS1C1R4_VLPAGl_200x_y.png'),\n",
       " Path('../fluocells_data/all_images/images/Mar20bS1C2R1_VLPAGl_200x_y.png'),\n",
       " Path('../fluocells_data/all_images/images/Mar26bS1C4R3_DMr_200x_y.png'),\n",
       " Path('../fluocells_data/all_images/images/Mar23bS1C5R2_LHr_200x_y.png'),\n",
       " Path('../fluocells_data/all_images/images/Mar21bS1C2R2_VLPAGl_200x_y.png'),\n",
       " Path('../fluocells_data/all_images/images/Mar22bS1C5R1_LHr_200x_y.png'),\n",
       " Path('../fluocells_data/all_images/images/Mar22bS1C4R2_LHl_200x_y.png'),\n",
       " Path('../fluocells_data/all_images/images/Mar23bS1C2R4_VLPAGr_200x_y.png'),\n",
       " Path('../fluocells_data/all_images/images/Mar42S2C4R2_VLPAGr_200x_o.png'),\n",
       " Path('../fluocells_data/all_images/images/Mar19bS1C3R2_VLPAGl_200x_y.png'),\n",
       " Path('../fluocells_data/all_images/images/37_y.png'),\n",
       " Path('../fluocells_data/all_images/images/Mar19bS1C1R2_VLPAGr_200x_y.png'),\n",
       " Path('../fluocells_data/all_images/images/Mar24bS1C3R2_LHr_200x_y.png'),\n",
       " Path('../fluocells_data/all_images/images/Mar21bS2C2R2_DMr_200x_y.png'),\n",
       " Path('../fluocells_data/all_images/images/Mar22bS1C2R4_DMl_200x_y.png'),\n",
       " Path('../fluocells_data/all_images/images/Mar21bS2C1R2_DMl_200x_y.png'),\n",
       " Path('../fluocells_data/all_images/images/Mar31bS2C3R4_DMr_200x_y.png'),\n",
       " Path('../fluocells_data/all_images/images/Mar22bS1C4R2_DMl_200x_y.png'),\n",
       " Path('../fluocells_data/all_images/images/Mar22bS1C3R3_DMr_200x_y.png'),\n",
       " Path('../fluocells_data/all_images/images/Mar24bS1C1R1_LHl_200x_y.png'),\n",
       " Path('../fluocells_data/all_images/images/Mar20bS2C3R2_LHr_200x_y.png'),\n",
       " Path('../fluocells_data/all_images/images/Mar21bS2C3R2_LHr_200x_y.png'),\n",
       " Path('../fluocells_data/all_images/images/Mar19bS1C4R3_LHr_200x_y.png'),\n",
       " Path('../fluocells_data/all_images/images/Mar24bS2C4R3_DMl_200x_y.png'),\n",
       " Path('../fluocells_data/all_images/images/Mar21bS2C1R3_LHr_200x_y.png'),\n",
       " Path('../fluocells_data/all_images/images/Mar23bS1C6R1_LHr_200x_y.png'),\n",
       " Path('../fluocells_data/all_images/images/Mar23bS1C2R3_VLPAGr_200x_y.png'),\n",
       " Path('../fluocells_data/all_images/images/Mar22bS1C4R3_DMl_200x_y.png'),\n",
       " Path('../fluocells_data/all_images/images/Mar26bS1C4R2_LHl_200x_y.png'),\n",
       " Path('../fluocells_data/all_images/images/Mar24bS1C3R1_LHr_200x_y.png'),\n",
       " Path('../fluocells_data/all_images/images/Mar21bS1C1R2_VLPAGl_200x_y.png'),\n",
       " Path('../fluocells_data/all_images/images/Mar27bS1C2R2_LHr_200x_y.png'),\n",
       " Path('../fluocells_data/all_images/images/Mar24bS2C2R3_VLPAGr_200x_y.png'),\n",
       " Path('../fluocells_data/all_images/images/Mar20bS2C1R3_DMl_200x_y.png'),\n",
       " Path('../fluocells_data/all_images/images/Mar21bS2C2R1_DMr_200x_y.png'),\n",
       " Path('../fluocells_data/all_images/images/Mar20bS2C2R2_DMl_200x_y.png'),\n",
       " Path('../fluocells_data/all_images/images/Mar26bS2C1R2_DMr_200x_y.png'),\n",
       " Path('../fluocells_data/all_images/images/Mar20bS1C2R1_VLPAGr_200x_y.png'),\n",
       " Path('../fluocells_data/all_images/images/Mar22bS1C3R1_DMl_200x_y.png'),\n",
       " Path('../fluocells_data/all_images/images/Mar22bS1C4R3_DMr_200x_y.png'),\n",
       " Path('../fluocells_data/all_images/images/Mar22bS1C4R3_LHr_200x_y.png'),\n",
       " Path('../fluocells_data/all_images/images/Mar21bS2C1R1_LHl_200x_y.png'),\n",
       " Path('../fluocells_data/all_images/images/Mar21bS1C2R3_VLPAGl_200x_y.png'),\n",
       " Path('../fluocells_data/all_images/images/Mar21bS2C2R3_LHr_200x_y.png'),\n",
       " Path('../fluocells_data/all_images/images/Mar24bS1C2R2_LHr_200x_y.png'),\n",
       " Path('../fluocells_data/all_images/images/Mar21bS2C3R2_LHl_200x_y.png'),\n",
       " Path('../fluocells_data/all_images/images/Mar26bS2C1R1_LHl_200x_y.png'),\n",
       " Path('../fluocells_data/all_images/images/Mar41S3C1R1_DMl_200x_o.png'),\n",
       " Path('../fluocells_data/all_images/images/Mar20bS2C1R2_LHr_200x_y.png'),\n",
       " Path('../fluocells_data/all_images/images/Mar20bS1C4R1_LHl_200x_y.png'),\n",
       " Path('../fluocells_data/all_images/images/Mar22bS1C3R3_LHl_200x_y.png'),\n",
       " Path('../fluocells_data/all_images/images/Mar26bS1C1R3_VLPAGr_200x_y.png'),\n",
       " Path('../fluocells_data/all_images/images/MAR52S2C1R3_LHL_20_o.png'),\n",
       " Path('../fluocells_data/all_images/images/Mar22bS1C3R3_DMl_200x_y.png'),\n",
       " Path('../fluocells_data/all_images/images/Mar19bS1C3R1_VLPAGl_200x_y.png'),\n",
       " Path('../fluocells_data/all_images/images/Mar41S3C3R3_VLPAGl_200x_o.png'),\n",
       " Path('../fluocells_data/all_images/images/Mar20bS2C3R1_LHr_200x_y.png'),\n",
       " Path('../fluocells_data/all_images/images/Mar27bS1C2R1_LHl_200x_y.png'),\n",
       " Path('../fluocells_data/all_images/images/Mar20bS2C1R1_DMl_200x_y.png'),\n",
       " Path('../fluocells_data/all_images/images/Mar26bS2C2R1_LHl_200x_y.png'),\n",
       " Path('../fluocells_data/all_images/images/Mar19bS1C5R3_LHl_200x_y.png'),\n",
       " Path('../fluocells_data/all_images/images/Mar19bS1C5R1_LHl_200x_y.png'),\n",
       " Path('../fluocells_data/all_images/images/Mar19bS1C4R3_LHl_200x_y.png'),\n",
       " Path('../fluocells_data/all_images/images/Mar20bS2C2R1_LHl_200x_y.png'),\n",
       " Path('../fluocells_data/all_images/images/Mar21bS2C2R1_DMl_200x_y.png'),\n",
       " Path('../fluocells_data/all_images/images/Mar26bS2C2R2_LHl_200x_y.png'),\n",
       " Path('../fluocells_data/all_images/images/Mar19bS1C4R2_LHl_200x_y.png'),\n",
       " Path('../fluocells_data/all_images/images/Mar42S2C2R2_DMr_200x_o.png'),\n",
       " Path('../fluocells_data/all_images/images/Mar20bS2C1R2_LHl_200x_y.png'),\n",
       " Path('../fluocells_data/all_images/images/Mar26bS2C2R2_LHr_200x_y.png'),\n",
       " Path('../fluocells_data/all_images/images/Mar19bS2C1R2_LHl_200x_y.png'),\n",
       " Path('../fluocells_data/all_images/images/Mar33bS1C4R2_DMl_200x_y.png'),\n",
       " Path('../fluocells_data/all_images/images/Mar23bS1C6R3_LHr_200x_y.png'),\n",
       " Path('../fluocells_data/all_images/images/Mar24bS1C1R1_DMr_200x_y.png'),\n",
       " Path('../fluocells_data/all_images/images/Mar23bS1C1R4_VLPAGr_200x_y.png'),\n",
       " Path('../fluocells_data/all_images/images/Mar22bS1C3R2_DMl_200x_y.png'),\n",
       " Path('../fluocells_data/all_images/images/Mar20bS1C4R1_LHr_200x_y.png'),\n",
       " Path('../fluocells_data/all_images/images/Mar23bS1C5R2_DMr_200x_y.png'),\n",
       " Path('../fluocells_data/all_images/images/Mar23bS1C2R2_VLPAGr_200x_y.png'),\n",
       " Path('../fluocells_data/all_images/images/Mar20bS1C4R3_DMl_200x_y.png'),\n",
       " Path('../fluocells_data/all_images/images/Mar22bS1C4R3_LHl_200x_y.png'),\n",
       " Path('../fluocells_data/all_images/images/Mar32bS2C2R2_DMl_200x_y.png'),\n",
       " Path('../fluocells_data/all_images/images/Mar20bS2C2R2_LHr_200x_y.png'),\n",
       " Path('../fluocells_data/all_images/images/Mar26bS2C1R2_LHr_200x_y.png'),\n",
       " Path('../fluocells_data/all_images/images/Mar23bS1C2R1_VLPAGl_200x_y.png'),\n",
       " Path('../fluocells_data/all_images/images/Mar24bS1C2R3_LHl_200x_y.png'),\n",
       " Path('../fluocells_data/all_images/images/Mar20bS1C1R3_VLPAGr_200x_y.png'),\n",
       " Path('../fluocells_data/all_images/images/Mar24bS2C4R3_LHr_200x_y.png'),\n",
       " Path('../fluocells_data/all_images/images/Mar20bS1C2R3_VLPAGl_200x_y.png'),\n",
       " Path('../fluocells_data/all_images/images/Mar23bS1C5R2_LHl_200x_y.png'),\n",
       " Path('../fluocells_data/all_images/images/Mar22bS1C2R4_DMr_200x_y.png'),\n",
       " Path('../fluocells_data/all_images/images/Mar36bS1C6R2_DMl_200x_y.png'),\n",
       " Path('../fluocells_data/all_images/images/Mar20bS1C2R3_VLPAGr_200x_y.png'),\n",
       " Path('../fluocells_data/all_images/images/Mar19bS1C1R3_VLPAGr_200x_y.png'),\n",
       " Path('../fluocells_data/all_images/images/Mar23bS1C5R3_DMl_200x_y.png'),\n",
       " Path('../fluocells_data/all_images/images/Mar19bS1C4R2_DMl_200x_y.png'),\n",
       " Path('../fluocells_data/all_images/images/Mar21bS1C1R2_VLPAGr_200x_y.png'),\n",
       " Path('../fluocells_data/all_images/images/Mar20bS1C2R2_VLPAGr_200x_y.png'),\n",
       " Path('../fluocells_data/all_images/images/Mar23bS1C2R2_VLPAGl_200x_y.png'),\n",
       " Path('../fluocells_data/all_images/images/Mar21bS2C1R2_DMr_200x_y.png'),\n",
       " Path('../fluocells_data/all_images/images/Mar20bS2C2R2_LHl_200x_y.png'),\n",
       " Path('../fluocells_data/all_images/images/Mar19bS1C5R3_DMr_200x_y.png'),\n",
       " Path('../fluocells_data/all_images/images/Mar20bS2C2R3_LHr_200x_y.png'),\n",
       " Path('../fluocells_data/all_images/images/Mar21bS2C1R3_LHl_200x_y.png'),\n",
       " Path('../fluocells_data/all_images/images/Mar26bS2C1R2_DMl_200x_y.png'),\n",
       " Path('../fluocells_data/all_images/images/Mar26bS1C4R2_DMl_200x_y.png'),\n",
       " Path('../fluocells_data/all_images/images/Mar20bS1C2R2_VLPAGl_200x_y.png'),\n",
       " Path('../fluocells_data/all_images/images/Mar23bS1C2R1_VLPAGr_200x_y.png'),\n",
       " Path('../fluocells_data/all_images/images/Mar20bS1C3R2_VLPAGl_200x_y.png'),\n",
       " Path('../fluocells_data/all_images/images/Mar21bS1C1R3_VLPAGl_200x_y.png'),\n",
       " Path('../fluocells_data/all_images/images/Mar26bS1C1R4_VLPAGr_200x_y.png'),\n",
       " Path('../fluocells_data/all_images/images/Mar23bS1C6R1_DMl_200x_y.png'),\n",
       " Path('../fluocells_data/all_images/images/Mar24bS2C4R3_DMr_200x_y.png'),\n",
       " Path('../fluocells_data/all_images/images/Mar20bS2C1R1_DMr_200x_y.png'),\n",
       " Path('../fluocells_data/all_images/images/Mar19bS1C5R3_LHr_200x_y.png'),\n",
       " Path('../fluocells_data/all_images/images/Mar19bS1C5R2_DMl_200x_y.png'),\n",
       " Path('../fluocells_data/all_images/images/Mar43S1C5R3_DMr_200x_o.png'),\n",
       " Path('../fluocells_data/all_images/images/Mar24bS1C1R1_DMl_200x_y.png'),\n",
       " Path('../fluocells_data/all_images/images/MAR55S1C5R3_DMR_20_o.png'),\n",
       " Path('../fluocells_data/all_images/images/Mar23bS1C6R2_LHl_200x_y.png'),\n",
       " Path('../fluocells_data/all_images/images/Mar22bS1C4R2_DMr_200x_y.png'),\n",
       " Path('../fluocells_data/all_images/images/Mar21bS2C2R2_LHl_200x_y.png'),\n",
       " Path('../fluocells_data/all_images/images/Mar33bS1C4R2_DMr_200x_y.png'),\n",
       " Path('../fluocells_data/all_images/images/Mar24bS1C2R1_DMl_200x_y.png'),\n",
       " Path('../fluocells_data/all_images/images/Mar19bS1C5R2_LHl_200x_y.png'),\n",
       " Path('../fluocells_data/all_images/images/Mar20bS1C1R3_VLPAGl_200x_y.png'),\n",
       " Path('../fluocells_data/all_images/images/Mar20bS1C3R1_VLPAGl_200x_y.png'),\n",
       " Path('../fluocells_data/all_images/images/Mar27bS1C2R1_LHr_200x_y.png'),\n",
       " Path('../fluocells_data/all_images/images/Mar20bS1C4R3_LHr_200x_y.png'),\n",
       " Path('../fluocells_data/all_images/images/Mar27bS1C3R1_LHr_200x_y.png'),\n",
       " Path('../fluocells_data/all_images/images/Mar26bS2C2R3_LHr_200x_y.png'),\n",
       " Path('../fluocells_data/all_images/images/Mar23bS1C5R3_LHr_200x_y.png'),\n",
       " Path('../fluocells_data/all_images/images/Mar19bS2C1R1_DMl_200x_y.png'),\n",
       " Path('../fluocells_data/all_images/images/Mar24bS2C2R3_VLPAGl_200x_y.png'),\n",
       " Path('../fluocells_data/all_images/images/Mar24bS1C1R1_LHr_200x_y.png'),\n",
       " Path('../fluocells_data/all_images/images/Mar20bS2C3R1_LHl_200x_y.png'),\n",
       " Path('../fluocells_data/all_images/images/Mar19bS1C5R2_LHr_200x_y.png'),\n",
       " Path('../fluocells_data/all_images/images/Mar40S1C2R2_DMr_200x_o.png'),\n",
       " Path('../fluocells_data/all_images/images/Mar20bS2C1R1_LHr_200x_y.png'),\n",
       " Path('../fluocells_data/all_images/images/Mar19bS1C5R2_DMr_200x_y.png'),\n",
       " Path('../fluocells_data/all_images/images/Mar40S1C2R2_DMl_200x_o.png'),\n",
       " Path('../fluocells_data/all_images/images/Mar24bS2C1R3_VLPAGr_200x_y.png'),\n",
       " Path('../fluocells_data/all_images/images/Mar19bS1C2R3_VLPAGr_200x_y.png'),\n",
       " Path('../fluocells_data/all_images/images/Mar26bS1C2R2_VLPAGr_200x_y.png'),\n",
       " Path('../fluocells_data/all_images/images/Mar23bS1C6R2_DMr_200x_y.png'),\n",
       " Path('../fluocells_data/all_images/images/Mar20bS2C1R2_DMl_200x_y.png'),\n",
       " Path('../fluocells_data/all_images/images/Mar33bS2C1R1_DMl_200x_y.png'),\n",
       " Path('../fluocells_data/all_images/images/Mar19bS2C1R1_LHl_200x_y.png'),\n",
       " Path('../fluocells_data/all_images/images/Mar19bS1C5R1_DMl_200x_y.png'),\n",
       " Path('../fluocells_data/all_images/images/Mar23bS1C5R2_DMl_200x_y.png'),\n",
       " Path('../fluocells_data/all_images/images/Mar21bS2C2R2_DMl_200x_y.png'),\n",
       " Path('../fluocells_data/all_images/images/Mar20bS1C4R3_DMr_200x_y.png'),\n",
       " Path('../fluocells_data/all_images/images/Mar19bS1C4R1_VLPAGl_200x_y.png'),\n",
       " Path('../fluocells_data/all_images/images/Mar20bS2C2R2_DMr_200x_y.png'),\n",
       " Path('../fluocells_data/all_images/images/Mar24bS1C1R2_DMr_200x_y.png'),\n",
       " Path('../fluocells_data/all_images/images/Mar21bS2C1R2_LHl_200x_y.png'),\n",
       " Path('../fluocells_data/all_images/images/Mar23bS2C1R1_LHl_200x_y.png'),\n",
       " Path('../fluocells_data/all_images/images/Mar31bS2C1R2_VLPAGr_200x_y.png')]"
      ]
     },
     "execution_count": 1,
     "metadata": {},
     "output_type": "execute_result"
    }
   ],
   "source": [
    "from fastai.vision.all import *\n",
    "\n",
    "data_path = Path('../fluocells_data/all_images')\n",
    "\n",
    "# read train/valid/test split dataframe\n",
    "split_df = pd.read_csv(data_path.parent / 'split_df.csv')\n",
    "trainval_fnames = [data_path / 'images' / fn\n",
    "                   for fn in split_df.query(\"split=='train' or split=='valid'\").filename]\n",
    "\n",
    "trainval_fnames"
   ]
  },
  {
   "cell_type": "markdown",
   "id": "b3b2dde2",
   "metadata": {},
   "source": [
    "### label_func\n",
    "\n",
    "Avremo bisogno poi di una funzione in grado di associare ad ogni immagine di input il path della corrispettiva maschera/annotazione. "
   ]
  },
  {
   "cell_type": "code",
   "execution_count": 2,
   "id": "e08f95e8",
   "metadata": {
    "ExecuteTime": {
     "end_time": "2022-09-01T08:23:37.837243Z",
     "start_time": "2022-09-01T08:23:37.835153Z"
    }
   },
   "outputs": [],
   "source": [
    "def label_func(p):\n",
    "    return Path(str(p).replace('images', 'masks'))"
   ]
  },
  {
   "cell_type": "code",
   "execution_count": 3,
   "id": "c2e8a23e",
   "metadata": {
    "ExecuteTime": {
     "end_time": "2022-09-01T08:23:37.846457Z",
     "start_time": "2022-09-01T08:23:37.839008Z"
    }
   },
   "outputs": [
    {
     "name": "stdout",
     "output_type": "stream",
     "text": [
      "Esempio:\n",
      "\n",
      "Input: ../fluocells_data/all_images/images/Mar26bS2C1R2_LHl_200x_y.png\n",
      "Output: ../fluocells_data/all_masks/masks/Mar26bS2C1R2_LHl_200x_y.png\n"
     ]
    }
   ],
   "source": [
    "print('Esempio:\\n')\n",
    "\n",
    "print(f'Input: {trainval_fnames[0]}')\n",
    "print(f'Output: {label_func(trainval_fnames[0])}')"
   ]
  },
  {
   "cell_type": "markdown",
   "id": "69a4899b",
   "metadata": {},
   "source": [
    "### Splitter\n",
    "\n",
    "Infine, costruiamo una funzione che ci permetta di distinguere tra le immagini da usare per il training e quelle per la validazione. In particolare, questa funzione resituirà `True` per tutte le immagini registrate come `valid` in `split_df`;`False` altrimenti."
   ]
  },
  {
   "cell_type": "code",
   "execution_count": 4,
   "id": "acefc59e",
   "metadata": {
    "ExecuteTime": {
     "end_time": "2022-09-01T08:23:37.861998Z",
     "start_time": "2022-09-01T08:23:37.847585Z"
    }
   },
   "outputs": [
    {
     "name": "stdout",
     "output_type": "stream",
     "text": [
      "split dataframe:\n",
      "      img_id                     filename  split\n",
      "81       81   Mar41S3C1R1_DMr_200x_o.png  train\n",
      "194     194  Mar32bS2C2R2_DMl_200x_y.png  train\n",
      "196     196  Mar26bS2C1R2_LHr_200x_y.png  valid\n",
      "248     248  Mar27bS1C2R1_LHr_200x_y.png  valid\n",
      "splitter:\n",
      "\n",
      "../fluocells_data/all_images/images/Mar32bS2C2R2_DMl_200x_y.png \tvalidation set: False\n",
      "../fluocells_data/all_images/images/Mar27bS1C2R1_LHr_200x_y.png \tvalidation set: True\n",
      "../fluocells_data/all_images/images/Mar26bS2C1R2_LHr_200x_y.png \tvalidation set: True\n",
      "../fluocells_data/all_images/images/Mar41S3C1R1_DMr_200x_o.png \tvalidation set: False\n"
     ]
    }
   ],
   "source": [
    "sample_img_names = ['Mar32bS2C2R2_DMl_200x_y.png', 'Mar27bS1C2R1_LHr_200x_y.png',\n",
    "                    'Mar26bS2C1R2_LHr_200x_y.png', 'Mar41S3C1R1_DMr_200x_o.png']\n",
    "\n",
    "print('split dataframe:\\n', split_df.loc[split_df.filename.isin(sample_img_names)])\n",
    "\n",
    "def is_valid(p):\n",
    "    return split_df.loc[split_df.filename == p.name, 'split'].values[0] == 'valid'\n",
    "\n",
    "print('splitter:\\n')\n",
    "for fn in sample_img_names:\n",
    "    print(data_path / 'images' / fn, '\\tvalidation set:', is_valid(data_path / 'images' / fn))"
   ]
  },
  {
   "cell_type": "markdown",
   "id": "c29cab66",
   "metadata": {},
   "source": [
    "### Dataloader "
   ]
  },
  {
   "cell_type": "code",
   "execution_count": 5,
   "id": "9931140c",
   "metadata": {
    "ExecuteTime": {
     "end_time": "2022-09-01T08:23:43.754930Z",
     "start_time": "2022-09-01T08:23:37.863207Z"
    }
   },
   "outputs": [
    {
     "name": "stderr",
     "output_type": "stream",
     "text": [
      "/home/luca/anaconda3/envs/fx/lib/python3.9/site-packages/torch/_tensor.py:1051: UserWarning: __floordiv__ is deprecated, and its behavior will change in a future version of pytorch. It currently rounds toward 0 (like the 'trunc' function NOT 'floor'). This results in incorrect rounding for negative values. To keep the current behavior, use torch.div(a, b, rounding_mode='trunc'), or for actual floor division, use torch.div(a, b, rounding_mode='floor').\n",
      "  ret = func(*args, **kwargs)\n"
     ]
    },
    {
     "name": "stdout",
     "output_type": "stream",
     "text": [
      "torch.Size([32, 3, 224, 224]) torch.Size([32, 224, 224])\n"
     ]
    },
    {
     "data": {
      "text/plain": [
       "(TensorImage(1.8184e-08, device='cuda:0'),\n",
       " TensorImage(0.9821, device='cuda:0'),\n",
       " TensorMask(0, device='cuda:0'),\n",
       " TensorMask(1, device='cuda:0'))"
      ]
     },
     "execution_count": 5,
     "metadata": {},
     "output_type": "execute_result"
    }
   ],
   "source": [
    "# augmentation\n",
    "tfms = [\n",
    "    IntToFloatTensor(div_mask=255.),  # need masks in [0, 1] format\n",
    "    RandomCrop(512),\n",
    "    *aug_transforms(\n",
    "        size=224, # resize\n",
    "        max_lighting=0.1, p_lighting=0.5, # variazione luminosità\n",
    "        min_zoom=0.9, max_zoom=1.1, # zoom\n",
    "        max_warp=0, # distorsione\n",
    "        max_rotate=15.0 # rotazione\n",
    "    )\n",
    "]\n",
    "\n",
    "\n",
    "# splitter\n",
    "splitter = FuncSplitter(lambda p: is_valid(p))\n",
    "# alternative: random splitter\n",
    "# RandomSplitter(valid_pct=0.3, seed=42),\n",
    "\n",
    "BS = 32\n",
    "# dataloader\n",
    "dls = SegmentationDataLoaders.from_label_func(\n",
    "    data_path, fnames=trainval_fnames, label_func=label_func,\n",
    "    bs=BS,\n",
    "    splitter=splitter,\n",
    "    #     item_tfms=pre_tfms,\n",
    "    batch_tfms=tfms,\n",
    "    device='cuda'\n",
    ")\n",
    "\n",
    "# test\n",
    "x, y = dls.one_batch()\n",
    "print(x.shape, y.shape)\n",
    "x.min(), x.max(), y.min(), y.max()"
   ]
  },
  {
   "cell_type": "markdown",
   "id": "e1e1ded3",
   "metadata": {},
   "source": [
    "<div class=\"alert alert-block alert-info\">\n",
    "\n",
    "fastai permette di raggruppare le trasformazioni in due blocchi a seconda di quando vengono eseguite:\n",
    " - `item_tfms`: sono applicate prima della formazione del batch, quindi sul singolo input\n",
    " - `batch_tfms`: sono applicate sull'intero batch (eseguite su GPU se `device='cuda'`)\n",
    "    \n",
    "</div>"
   ]
  },
  {
   "cell_type": "markdown",
   "id": "b09464ef",
   "metadata": {},
   "source": [
    "## Training/validation step\n",
    "\n",
    "Per quanto riguarda le fasi di training e validation, fastai permette di gestirle tramite la classe `Learner`.\n",
    "\n",
    "Oggetti di questo tipo, infatti, interagiscono con tutte le componenti necessarie per l'addestramento:\n",
    " - dataloader\n",
    " - modello\n",
    " - ottimizzatore\n",
    " \n",
    "In particolare, il processo di training è gestito tramite il metodo `.fit()` che di fatto esegue ciascuna epoca di addestramento.\n",
    "\n",
    "Inoltre, fastai permette di modificare il funzionamento standard della procedura di training tramite **callbacks** di varia natura (logging metriche, salvataggio configurazione pesi, early stopping, regole di aggiornamento parametri, ...)."
   ]
  },
  {
   "cell_type": "markdown",
   "id": "d212671b",
   "metadata": {},
   "source": [
    "### Iperparametri\n",
    "\n",
    "Per prima cosa raccogliamo in un dizionario tutti gli iperparametri che utilizzeremo nei prossimi passaggi. \n",
    "\n",
    "Questo è molto utile per tenere traccia della configurazione usata in ciascun esperimento di training e permettere di ricostruire a posteriori tutte le impostazioni che hanno portato ad un determinato risultato.\n",
    "\n",
    "<div class=\"alert alert-block alert-info\">\n",
    "    \n",
    "Questa pratica è altamente consigliata in quanto è molto semplice arrivare in fondo ad una serie di esperimenti e non essere in grado di ricostruire la configurazione precisa utilizzata. \n",
    "    \n",
    "Per questo motivo è altamente consigliato:\n",
    " - riportare insieme tutti gli iperparametri dei nostri esperimenti, in modo da fornire un unico punto di accesso per eventuali modifiche (possibilmente posto all'inizio in modo da essere facilmente individuabile)\n",
    " - salvare la configurazione di ogni esperimento insieme ai relativi risultati\n",
    "</div>"
   ]
  },
  {
   "cell_type": "code",
   "execution_count": 6,
   "id": "18dc879b",
   "metadata": {
    "ExecuteTime": {
     "end_time": "2022-09-01T08:23:44.057345Z",
     "start_time": "2022-09-01T08:23:43.757317Z"
    }
   },
   "outputs": [],
   "source": [
    "import sys\n",
    "sys.path.insert(0, str(Path.cwd().parent))\n",
    "\n",
    "from utils import write_config, load_config\n",
    "\n",
    "# data and augmentation params\n",
    "CROP_SIZE = 512\n",
    "RESIZE = 224\n",
    "MAX_LIGHT = 0.1\n",
    "ZOOM_DELTA = 0.9  # min_zoom = 1 - ZOOM_DELTA; max_zoom = 1 + ZOOM_DELTA\n",
    "MAX_ROTATION_ANGLE = 15.0\n",
    "\n",
    "# model params\n",
    "N_IN, N_OUT = 16, 2\n",
    "\n",
    "# optimizer params\n",
    "W_CELL, W_BKGD = 100, 1\n",
    "LOSS_FUNC, LOSS_NAME = CrossEntropyLossFlat(\n",
    "    axis=1, weight=torch.Tensor([W_BKGD, W_CELL])), 'CrossEntropy'\n",
    "LR = 0.001\n",
    "OPT, OPT_NAME = partial(Adam, lr=LR), 'Adam'\n",
    "MONIT_SCORE, MIN_DELTA, PATIENCE_ES = 'valid_loss', 0, 20 # early stopping\n",
    "FACTOR, PATIENCE_LR = 10/7, 4 # scheduling learning rate\n",
    "\n",
    "\n",
    "hyperparameter_defaults = dict(\n",
    "    crop_size=CROP_SIZE,\n",
    "    resize=RESIZE,\n",
    "    batch_size=BS,\n",
    "    angle=MAX_ROTATION_ANGLE,\n",
    "    zoom_delta=ZOOM_DELTA,\n",
    "    max_light=MAX_LIGHT,\n",
    "    # model\n",
    "    n_in=N_IN, n_out=N_OUT,\n",
    "    # optimizer\n",
    "    loss_func=LOSS_FUNC, loss_name=LOSS_NAME,\n",
    "    lr=LR,\n",
    "    opt=OPT, opt_name=OPT_NAME,\n",
    "    monit_dict={'score': MONIT_SCORE, 'min_delta': MIN_DELTA, 'patience': PATIENCE_ES},\n",
    "    lr_monit_dict={'factor': FACTOR, 'patience': PATIENCE_LR},\n",
    ")\n",
    "\n",
    "cfg = namedtuple('Config', hyperparameter_defaults.keys())(\n",
    "    **hyperparameter_defaults)\n",
    "\n",
    "# save config\n",
    "EXP_NAME = f'test-training-loop:wcell={W_CELL}'\n",
    "log_path = Path().cwd().parent / 'logs' / EXP_NAME  \n",
    "log_path.mkdir(exist_ok=True, parents=True)\n",
    "write_config(hyperparameter_defaults, log_path / \"cfg.pkl\")\n",
    "# loaded_cfg = load_config(log_path / \"cfg.pkl\")"
   ]
  },
  {
   "cell_type": "markdown",
   "id": "024b608e",
   "metadata": {},
   "source": [
    "### Modello "
   ]
  },
  {
   "cell_type": "code",
   "execution_count": 7,
   "id": "b0206407",
   "metadata": {
    "ExecuteTime": {
     "end_time": "2022-09-01T08:23:44.082964Z",
     "start_time": "2022-09-01T08:23:44.059738Z"
    }
   },
   "outputs": [],
   "source": [
    "from blocks import cResUnet\n",
    "\n",
    "model = cResUnet(cfg.n_in, cfg.n_out)"
   ]
  },
  {
   "cell_type": "code",
   "execution_count": 8,
   "id": "a9cdd37d",
   "metadata": {
    "ExecuteTime": {
     "end_time": "2022-09-01T08:23:44.091798Z",
     "start_time": "2022-09-01T08:23:44.084627Z"
    }
   },
   "outputs": [
    {
     "data": {
      "text/plain": [
       "cResUnet(\n",
       "  (encoder): ModuleDict(\n",
       "    (colorspace): Conv2d(3, 1, kernel_size=(1, 1), stride=(1, 1))\n",
       "    (conv_block): ConvBlock(\n",
       "      (conv_block): ModuleDict(\n",
       "        (batchnorm2d_0): BatchNorm2d(1, eps=0.001, momentum=0.01, affine=True, track_running_stats=True)\n",
       "        (activation_1): ELU(alpha=1.0)\n",
       "        (conv2d_2): Conv2d(1, 16, kernel_size=(3, 3), stride=(1, 1), padding=(1, 1))\n",
       "        (batchnorm2d_3): BatchNorm2d(16, eps=0.001, momentum=0.01, affine=True, track_running_stats=True)\n",
       "        (activation_4): ELU(alpha=1.0)\n",
       "        (conv2d_5): Conv2d(16, 16, kernel_size=(3, 3), stride=(1, 1), padding=(1, 1))\n",
       "      )\n",
       "    )\n",
       "    (pool1): MaxPool2d(kernel_size=2, stride=2, padding=0, dilation=1, ceil_mode=False)\n",
       "    (residual_block1): ResidualBlock(\n",
       "      (conv_path): ConvBlock(\n",
       "        (conv_block): ModuleDict(\n",
       "          (batchnorm2d_0): BatchNorm2d(16, eps=0.001, momentum=0.01, affine=True, track_running_stats=True)\n",
       "          (activation_1): ELU(alpha=1.0)\n",
       "          (conv2d_2): Conv2d(16, 32, kernel_size=(3, 3), stride=(1, 1), padding=(1, 1))\n",
       "          (batchnorm2d_3): BatchNorm2d(32, eps=0.001, momentum=0.01, affine=True, track_running_stats=True)\n",
       "          (activation_4): ELU(alpha=1.0)\n",
       "          (conv2d_5): Conv2d(32, 32, kernel_size=(3, 3), stride=(1, 1), padding=(1, 1))\n",
       "        )\n",
       "      )\n",
       "      (id_path): IdentityPath(\n",
       "        (conv2d_1): Conv2d(16, 32, kernel_size=(1, 1), stride=(1, 1))\n",
       "      )\n",
       "      (add): Add()\n",
       "    )\n",
       "    (pool2): MaxPool2d(kernel_size=2, stride=2, padding=0, dilation=1, ceil_mode=False)\n",
       "    (residual_block2): ResidualBlock(\n",
       "      (conv_path): ConvBlock(\n",
       "        (conv_block): ModuleDict(\n",
       "          (batchnorm2d_0): BatchNorm2d(32, eps=0.001, momentum=0.01, affine=True, track_running_stats=True)\n",
       "          (activation_1): ELU(alpha=1.0)\n",
       "          (conv2d_2): Conv2d(32, 64, kernel_size=(3, 3), stride=(1, 1), padding=(1, 1))\n",
       "          (batchnorm2d_3): BatchNorm2d(64, eps=0.001, momentum=0.01, affine=True, track_running_stats=True)\n",
       "          (activation_4): ELU(alpha=1.0)\n",
       "          (conv2d_5): Conv2d(64, 64, kernel_size=(3, 3), stride=(1, 1), padding=(1, 1))\n",
       "        )\n",
       "      )\n",
       "      (id_path): IdentityPath(\n",
       "        (conv2d_1): Conv2d(32, 64, kernel_size=(1, 1), stride=(1, 1))\n",
       "      )\n",
       "      (add): Add()\n",
       "    )\n",
       "    (pool3): MaxPool2d(kernel_size=2, stride=2, padding=0, dilation=1, ceil_mode=False)\n",
       "    (bottleneck): Bottleneck(\n",
       "      (residual_block1): ResidualBlock(\n",
       "        (conv_path): ConvBlock(\n",
       "          (conv_block): ModuleDict(\n",
       "            (batchnorm2d_0): BatchNorm2d(64, eps=0.001, momentum=0.01, affine=True, track_running_stats=True)\n",
       "            (activation_1): ELU(alpha=1.0)\n",
       "            (conv2d_2): Conv2d(64, 128, kernel_size=(5, 5), stride=(1, 1), padding=(2, 2))\n",
       "            (batchnorm2d_3): BatchNorm2d(128, eps=0.001, momentum=0.01, affine=True, track_running_stats=True)\n",
       "            (activation_4): ELU(alpha=1.0)\n",
       "            (conv2d_5): Conv2d(128, 128, kernel_size=(5, 5), stride=(1, 1), padding=(2, 2))\n",
       "          )\n",
       "        )\n",
       "        (id_path): IdentityPath(\n",
       "          (conv2d_1): Conv2d(64, 128, kernel_size=(1, 1), stride=(1, 1))\n",
       "        )\n",
       "        (add): Add()\n",
       "      )\n",
       "      (residual_block2): ResidualBlock(\n",
       "        (conv_path): ConvBlock(\n",
       "          (conv_block): ModuleDict(\n",
       "            (batchnorm2d_0): BatchNorm2d(128, eps=0.001, momentum=0.01, affine=True, track_running_stats=True)\n",
       "            (activation_1): ELU(alpha=1.0)\n",
       "            (conv2d_2): Conv2d(128, 128, kernel_size=(5, 5), stride=(1, 1), padding=(2, 2))\n",
       "            (batchnorm2d_3): BatchNorm2d(128, eps=0.001, momentum=0.01, affine=True, track_running_stats=True)\n",
       "            (activation_4): ELU(alpha=1.0)\n",
       "            (conv2d_5): Conv2d(128, 128, kernel_size=(5, 5), stride=(1, 1), padding=(2, 2))\n",
       "          )\n",
       "        )\n",
       "        (id_path): IdentityPath(\n",
       "          (identity): Identity()\n",
       "        )\n",
       "        (add): Add()\n",
       "      )\n",
       "    )\n",
       "  )\n",
       "  (decoder): ModuleDict(\n",
       "    (upconv_block1): UpResidualBlock(\n",
       "      (id_path): ModuleDict(\n",
       "        (up_conv): ConvTranspose2d(128, 64, kernel_size=(2, 2), stride=(2, 2))\n",
       "        (concat): Concatenate()\n",
       "      )\n",
       "      (conv_path): ConvBlock(\n",
       "        (conv_block): ModuleDict(\n",
       "          (batchnorm2d_0): BatchNorm2d(128, eps=0.001, momentum=0.01, affine=True, track_running_stats=True)\n",
       "          (activation_1): ELU(alpha=1.0)\n",
       "          (conv2d_2): Conv2d(128, 64, kernel_size=(3, 3), stride=(1, 1), padding=(1, 1))\n",
       "          (batchnorm2d_3): BatchNorm2d(64, eps=0.001, momentum=0.01, affine=True, track_running_stats=True)\n",
       "          (activation_4): ELU(alpha=1.0)\n",
       "          (conv2d_5): Conv2d(64, 64, kernel_size=(3, 3), stride=(1, 1), padding=(1, 1))\n",
       "        )\n",
       "      )\n",
       "      (add): Add()\n",
       "    )\n",
       "    (upconv_block2): UpResidualBlock(\n",
       "      (id_path): ModuleDict(\n",
       "        (up_conv): ConvTranspose2d(64, 32, kernel_size=(2, 2), stride=(2, 2))\n",
       "        (concat): Concatenate()\n",
       "      )\n",
       "      (conv_path): ConvBlock(\n",
       "        (conv_block): ModuleDict(\n",
       "          (batchnorm2d_0): BatchNorm2d(64, eps=0.001, momentum=0.01, affine=True, track_running_stats=True)\n",
       "          (activation_1): ELU(alpha=1.0)\n",
       "          (conv2d_2): Conv2d(64, 32, kernel_size=(3, 3), stride=(1, 1), padding=(1, 1))\n",
       "          (batchnorm2d_3): BatchNorm2d(32, eps=0.001, momentum=0.01, affine=True, track_running_stats=True)\n",
       "          (activation_4): ELU(alpha=1.0)\n",
       "          (conv2d_5): Conv2d(32, 32, kernel_size=(3, 3), stride=(1, 1), padding=(1, 1))\n",
       "        )\n",
       "      )\n",
       "      (add): Add()\n",
       "    )\n",
       "    (upconv_block3): UpResidualBlock(\n",
       "      (id_path): ModuleDict(\n",
       "        (up_conv): ConvTranspose2d(32, 16, kernel_size=(2, 2), stride=(2, 2))\n",
       "        (concat): Concatenate()\n",
       "      )\n",
       "      (conv_path): ConvBlock(\n",
       "        (conv_block): ModuleDict(\n",
       "          (batchnorm2d_0): BatchNorm2d(32, eps=0.001, momentum=0.01, affine=True, track_running_stats=True)\n",
       "          (activation_1): ELU(alpha=1.0)\n",
       "          (conv2d_2): Conv2d(32, 16, kernel_size=(3, 3), stride=(1, 1), padding=(1, 1))\n",
       "          (batchnorm2d_3): BatchNorm2d(16, eps=0.001, momentum=0.01, affine=True, track_running_stats=True)\n",
       "          (activation_4): ELU(alpha=1.0)\n",
       "          (conv2d_5): Conv2d(16, 16, kernel_size=(3, 3), stride=(1, 1), padding=(1, 1))\n",
       "        )\n",
       "      )\n",
       "      (add): Add()\n",
       "    )\n",
       "  )\n",
       "  (head): Heatmap2d(\n",
       "    (heatmap): Heatmap(\n",
       "      (conv2d): Conv2d(16, 1, kernel_size=(1, 1), stride=(1, 1))\n",
       "      (act): Sigmoid()\n",
       "    )\n",
       "    (concat): Concatenate()\n",
       "  )\n",
       ")"
      ]
     },
     "execution_count": 8,
     "metadata": {},
     "output_type": "execute_result"
    }
   ],
   "source": [
    "model"
   ]
  },
  {
   "cell_type": "markdown",
   "id": "761a5905",
   "metadata": {},
   "source": [
    "### Callbacks"
   ]
  },
  {
   "cell_type": "code",
   "execution_count": 9,
   "id": "e886a843",
   "metadata": {
    "ExecuteTime": {
     "end_time": "2022-09-01T08:23:44.101696Z",
     "start_time": "2022-09-01T08:23:44.094521Z"
    }
   },
   "outputs": [],
   "source": [
    "CBS = [\n",
    "#     ReduceLROnPlateau(monitor=MONIT_SCORE,\n",
    "#                       patience=PATIENCE_LR, factor=FACTOR),\n",
    "#     EarlyStoppingCallback(monitor=MONIT_SCORE,\n",
    "#                           min_delta=MIN_DELTA, patience=PATIENCE_ES),\n",
    "#     SaveModelCallback(monitor=MONIT_SCORE, min_delta=MIN_DELTA, fname='model',\n",
    "#                       every_epoch=False, at_end=False, with_opt=False, reset_on_fit=False),\n",
    "    CSVLogger\n",
    "]"
   ]
  },
  {
   "cell_type": "markdown",
   "id": "ac84271c",
   "metadata": {},
   "source": [
    "## Learner"
   ]
  },
  {
   "cell_type": "code",
   "execution_count": 10,
   "id": "9b957e18",
   "metadata": {
    "ExecuteTime": {
     "end_time": "2022-09-01T08:23:47.336287Z",
     "start_time": "2022-09-01T08:23:44.103498Z"
    }
   },
   "outputs": [
    {
     "name": "stdout",
     "output_type": "stream",
     "text": [
      "Logs save path: /home/luca/PycharmProjects/c-resunet-DLI/logs/test-training-loop:wcell=100\n",
      "Model save path: /home/luca/PycharmProjects/c-resunet-DLI/models/test-training-loop:wcell=100\n"
     ]
    },
    {
     "name": "stderr",
     "output_type": "stream",
     "text": [
      "/home/luca/anaconda3/envs/fx/lib/python3.9/site-packages/torch/_tensor.py:1051: UserWarning: __floordiv__ is deprecated, and its behavior will change in a future version of pytorch. It currently rounds toward 0 (like the 'trunc' function NOT 'floor'). This results in incorrect rounding for negative values. To keep the current behavior, use torch.div(a, b, rounding_mode='trunc'), or for actual floor division, use torch.div(a, b, rounding_mode='floor').\n",
      "  ret = func(*args, **kwargs)\n"
     ]
    },
    {
     "data": {
      "text/html": [],
      "text/plain": [
       "<IPython.core.display.HTML object>"
      ]
     },
     "metadata": {},
     "output_type": "display_data"
    },
    {
     "data": {
      "text/plain": [
       "cResUnet (Input shape: 32 x 3 x 224 x 224)\n",
       "============================================================================\n",
       "Layer (type)         Output Shape         Param #    Trainable \n",
       "============================================================================\n",
       "                     32 x 1 x 224 x 224  \n",
       "Conv2d                                    4          True      \n",
       "BatchNorm2d                               2          True      \n",
       "ELU                                                            \n",
       "____________________________________________________________________________\n",
       "                     32 x 16 x 224 x 224 \n",
       "Conv2d                                    160        True      \n",
       "BatchNorm2d                               32         True      \n",
       "ELU                                                            \n",
       "Conv2d                                    2320       True      \n",
       "____________________________________________________________________________\n",
       "                     32 x 16 x 112 x 112 \n",
       "MaxPool2d                                                      \n",
       "BatchNorm2d                               32         True      \n",
       "ELU                                                            \n",
       "____________________________________________________________________________\n",
       "                     32 x 32 x 112 x 112 \n",
       "Conv2d                                    4640       True      \n",
       "BatchNorm2d                               64         True      \n",
       "ELU                                                            \n",
       "Conv2d                                    9248       True      \n",
       "Conv2d                                    544        True      \n",
       "Add                                                            \n",
       "____________________________________________________________________________\n",
       "                     32 x 32 x 56 x 56   \n",
       "MaxPool2d                                                      \n",
       "BatchNorm2d                               64         True      \n",
       "ELU                                                            \n",
       "____________________________________________________________________________\n",
       "                     32 x 64 x 56 x 56   \n",
       "Conv2d                                    18496      True      \n",
       "BatchNorm2d                               128        True      \n",
       "ELU                                                            \n",
       "Conv2d                                    36928      True      \n",
       "Conv2d                                    2112       True      \n",
       "Add                                                            \n",
       "____________________________________________________________________________\n",
       "                     32 x 64 x 28 x 28   \n",
       "MaxPool2d                                                      \n",
       "BatchNorm2d                               128        True      \n",
       "ELU                                                            \n",
       "____________________________________________________________________________\n",
       "                     32 x 128 x 28 x 28  \n",
       "Conv2d                                    204928     True      \n",
       "BatchNorm2d                               256        True      \n",
       "ELU                                                            \n",
       "Conv2d                                    409728     True      \n",
       "Conv2d                                    8320       True      \n",
       "Add                                                            \n",
       "BatchNorm2d                               256        True      \n",
       "ELU                                                            \n",
       "Conv2d                                    409728     True      \n",
       "BatchNorm2d                               256        True      \n",
       "ELU                                                            \n",
       "Conv2d                                    409728     True      \n",
       "Identity                                                       \n",
       "Add                                                            \n",
       "____________________________________________________________________________\n",
       "                     32 x 64 x 56 x 56   \n",
       "ConvTranspose2d                           32832      True      \n",
       "____________________________________________________________________________\n",
       "                     32 x 128 x 56 x 56  \n",
       "Concatenate                                                    \n",
       "BatchNorm2d                               256        True      \n",
       "ELU                                                            \n",
       "____________________________________________________________________________\n",
       "                     32 x 64 x 56 x 56   \n",
       "Conv2d                                    73792      True      \n",
       "BatchNorm2d                               128        True      \n",
       "ELU                                                            \n",
       "Conv2d                                    36928      True      \n",
       "Add                                                            \n",
       "____________________________________________________________________________\n",
       "                     32 x 32 x 112 x 112 \n",
       "ConvTranspose2d                           8224       True      \n",
       "____________________________________________________________________________\n",
       "                     32 x 64 x 112 x 112 \n",
       "Concatenate                                                    \n",
       "BatchNorm2d                               128        True      \n",
       "ELU                                                            \n",
       "____________________________________________________________________________\n",
       "                     32 x 32 x 112 x 112 \n",
       "Conv2d                                    18464      True      \n",
       "BatchNorm2d                               64         True      \n",
       "ELU                                                            \n",
       "Conv2d                                    9248       True      \n",
       "Add                                                            \n",
       "____________________________________________________________________________\n",
       "                     32 x 16 x 224 x 224 \n",
       "ConvTranspose2d                           2064       True      \n",
       "____________________________________________________________________________\n",
       "                     32 x 32 x 224 x 224 \n",
       "Concatenate                                                    \n",
       "BatchNorm2d                               64         True      \n",
       "ELU                                                            \n",
       "____________________________________________________________________________\n",
       "                     32 x 16 x 224 x 224 \n",
       "Conv2d                                    4624       True      \n",
       "BatchNorm2d                               32         True      \n",
       "ELU                                                            \n",
       "Conv2d                                    2320       True      \n",
       "Add                                                            \n",
       "____________________________________________________________________________\n",
       "                     32 x 1 x 224 x 224  \n",
       "Conv2d                                    17         True      \n",
       "Sigmoid                                                        \n",
       "____________________________________________________________________________\n",
       "                     32 x 2 x 224 x 224  \n",
       "Concatenate                                                    \n",
       "____________________________________________________________________________\n",
       "\n",
       "Total params: 1,707,287\n",
       "Total trainable params: 1,707,287\n",
       "Total non-trainable params: 0\n",
       "\n",
       "Optimizer used: <function Adam at 0x7f0a44fddc10>\n",
       "Loss function: FlattenedLoss of CrossEntropyLoss()\n",
       "\n",
       "Callbacks:\n",
       "  - TrainEvalCallback\n",
       "  - Recorder\n",
       "  - ProgressCallback\n",
       "  - CSVLogger"
      ]
     },
     "execution_count": 10,
     "metadata": {},
     "output_type": "execute_result"
    }
   ],
   "source": [
    "learn = Learner(dls, model=model, loss_func=cfg.loss_func,\n",
    "                metrics=[Dice(), JaccardCoeff(), foreground_acc],\n",
    "                cbs=CBS,\n",
    "                path=log_path , \n",
    "                model_dir=f'{log_path.parent.parent}/models/{EXP_NAME}',\n",
    "                )  \n",
    "\n",
    "print(\n",
    "    f'Logs save path: {learn.path}\\nModel save path: {learn.path / learn.model_dir}')\n",
    "\n",
    "learn.summary()"
   ]
  },
  {
   "cell_type": "markdown",
   "id": "6847cdb8",
   "metadata": {},
   "source": [
    "### .fit()\n",
    "\n",
    "Il metodo `.fit()` della classe `Learner` è l'elemento che permette di gestire il ciclo di training standard in fastai. Per prima cosa possiamo dare uno sguardo al suo codice."
   ]
  },
  {
   "cell_type": "code",
   "execution_count": 11,
   "id": "00f8efad",
   "metadata": {
    "ExecuteTime": {
     "end_time": "2022-09-01T08:23:47.461476Z",
     "start_time": "2022-09-01T08:23:47.337562Z"
    }
   },
   "outputs": [],
   "source": [
    "learn.fit??"
   ]
  },
  {
   "cell_type": "markdown",
   "id": "ad8243d1",
   "metadata": {},
   "source": [
    "```\n",
    "Signature: learn.fit(n_epoch, lr=None, wd=None, cbs=None, reset_opt=False)\n",
    "Docstring: Fit `self.model` for `n_epoch` using `cbs`. Optionally `reset_opt`.\n",
    "Source:   \n",
    "    def fit(self, n_epoch, lr=None, wd=None, cbs=None, reset_opt=False):\n",
    "        with self.added_cbs(cbs):\n",
    "            if reset_opt or not self.opt: self.create_opt()\n",
    "            if wd is None: wd = self.wd\n",
    "            if wd is not None: self.opt.set_hypers(wd=wd)\n",
    "            self.opt.set_hypers(lr=self.lr if lr is None else lr)\n",
    "            self.n_epoch = n_epoch\n",
    "            self._with_events(self._do_fit, 'fit', CancelFitException, self._end_cleanup)\n",
    "File:      ~/anaconda3/envs/fx/lib/python3.9/site-packages/fastai/learner.py\n",
    "Type:      method\n",
    "\n",
    "```\n",
    "\n",
    "Come di consueto in fastai, il codice è molto essenziale e modulare, riducendo anche routine complesse come il training di un modello a poche righe di codice.\n",
    "\n",
    "In pratica, il tutto si riduce ad una scomposizione del training in tutti i suoi componenti fondamentali. \n",
    "In fastai, questi componenti sono chiamati **events** e si distinguono in 5 tipi con crescente livello di specializzazione:\n",
    "\n",
    " - *Fit*\n",
    " - *Epoch*\n",
    " - *Train*\n",
    " - *Validate*\n",
    " - *Batch*\n",
    " \n",
    "Ciascuno di questi poi può richiedere l'esecuzione di operazioni in 3 fasi diverse:\n",
    "\n",
    " - *before_{event_type}*: prima, in preparazione all'evento\n",
    " - *after_{event_type}*: dopo, per ripulire e predisporre i passi successivi\n",
    " - *after_cancel_{event_type}*: in caso qualche operazione non vada a buon fine\n",
    " \n",
    "Partendo da questi blocchi, lo schema completo delle operazioni racchiuse in un ciclo di training è rappresentato nel control flow di seguito.\n",
    "\n",
    "![Control Flow fastai fit operation](https://miro.medium.com/max/2000/1*ZCqbw_9Qk6lLbWOn1KrhYg.png)\n",
    "\n",
    "Infine, è possibile personalizzare l'esecuzione di questi step attraverso **callback** opportunamente implementate per integrarsi al livello di eventi desiderato e modificarne il funzionamento.\n",
    "Per fare questo è sufficiente passare la callback al momento della creazione del learner o all'esecuzione del fit tramite l'argomento **cbs**.\n",
    "\n",
    "<div class=\"alert alert-block alert-info\">\n",
    "\n",
    "Per maggiori informazioni si suggerisce di controllare la documentazione [[1](https://docs.fast.ai/learner.html#learner.fit), [2](https://docs.fast.ai/callback.core.html)] o questo [blog post](https://medium.com/analytics-vidhya/understanding-fastai-v2-training-with-a-computer-vision-example-part-3-fastai-learner-and-a3ea85c6fe78).   \n",
    "</div>.\n"
   ]
  },
  {
   "cell_type": "code",
   "execution_count": 12,
   "id": "246e8d82",
   "metadata": {
    "ExecuteTime": {
     "end_time": "2022-09-01T08:24:00.561945Z",
     "start_time": "2022-09-01T08:23:47.462748Z"
    }
   },
   "outputs": [
    {
     "data": {
      "text/html": [
       "<table border=\"1\" class=\"dataframe\">\n",
       "  <thead>\n",
       "    <tr style=\"text-align: left;\">\n",
       "      <th>epoch</th>\n",
       "      <th>train_loss</th>\n",
       "      <th>valid_loss</th>\n",
       "      <th>dice</th>\n",
       "      <th>jaccard_coeff</th>\n",
       "      <th>foreground_acc</th>\n",
       "      <th>time</th>\n",
       "    </tr>\n",
       "  </thead>\n",
       "  <tbody>\n",
       "    <tr>\n",
       "      <td>0</td>\n",
       "      <td>0.557394</td>\n",
       "      <td>0.676412</td>\n",
       "      <td>0.000000</td>\n",
       "      <td>0.000000</td>\n",
       "      <td>0.000000</td>\n",
       "      <td>00:13</td>\n",
       "    </tr>\n",
       "  </tbody>\n",
       "</table>"
      ],
      "text/plain": [
       "<IPython.core.display.HTML object>"
      ]
     },
     "metadata": {},
     "output_type": "display_data"
    }
   ],
   "source": [
    "learn.fit(n_epoch=1, lr=cfg.lr)"
   ]
  },
  {
   "cell_type": "markdown",
   "id": "7f874396",
   "metadata": {},
   "source": [
    "### .lr_find()\n",
    "\n",
    "La scelta del learning rate è molto importante per indirizzare l'apprendimento, per cui questa scelta richiede tipicamente diversi esperimenti.\n",
    "Per fortuna, fastai implementa una comoda routine, `lr_find` [[1]](https://docs.fast.ai/callback.schedule.html#lrfinder), in grado di suggerire un buon valore iniziale per questo iperparametro.\n",
    "\n",
    "In pratica, questa si basa su una grid-search su un sottoinsieme dei dati che prova con learning rate a diversi ordini di grandezza e restituisce la loss calcolata su alcuni batch.\n",
    "Il tutto è riassunto nel grafico di sotto.\n",
    "Per maggiori informazioni [[L. Smith (2018)*](https://arxiv.org/abs/1803.09820), [2](https://sgugger.github.io/how-do-you-find-a-good-learning-rate.html), [3](https://stackoverflow.com/a/62986041/7678074)].\n",
    "\n",
    "<div class=\"alert alert-block alert-info\">\n",
    "* il paper discute anche molti altri dettagli su come migliorare/velocizzare il training di un modello ed è una lettura assolutamente consigliata!\n",
    "</div>\n",
    "\n"
   ]
  },
  {
   "cell_type": "code",
   "execution_count": 13,
   "id": "bdd19dc3",
   "metadata": {
    "ExecuteTime": {
     "end_time": "2022-09-01T08:26:02.410621Z",
     "start_time": "2022-09-01T08:24:00.563180Z"
    }
   },
   "outputs": [
    {
     "data": {
      "text/html": [],
      "text/plain": [
       "<IPython.core.display.HTML object>"
      ]
     },
     "metadata": {},
     "output_type": "display_data"
    },
    {
     "data": {
      "text/plain": [
       "SuggestedLRs(valley=0.0012022644514217973)"
      ]
     },
     "execution_count": 13,
     "metadata": {},
     "output_type": "execute_result"
    },
    {
     "data": {
      "image/png": "[encoded data removed]",
      "text/plain": [
       "<Figure size 432x288 with 1 Axes>"
      ]
     },
     "metadata": {
      "needs_background": "light"
     },
     "output_type": "display_data"
    }
   ],
   "source": [
    "res = learn.lr_find()\n",
    "res"
   ]
  },
  {
   "cell_type": "markdown",
   "id": "5f98c31d",
   "metadata": {},
   "source": [
    "L'idea è che valori all'inizio dell'andamento discendente dovrebbero facilitare la convergenza verso un minimo in maniera comparativamente veloce, ed è restituita tramite l'argomento `valley`. "
   ]
  },
  {
   "cell_type": "code",
   "execution_count": 14,
   "id": "46645af2",
   "metadata": {
    "ExecuteTime": {
     "end_time": "2022-09-01T08:26:13.644621Z",
     "start_time": "2022-09-01T08:26:02.411795Z"
    },
    "scrolled": true
   },
   "outputs": [
    {
     "data": {
      "text/html": [
       "<table border=\"1\" class=\"dataframe\">\n",
       "  <thead>\n",
       "    <tr style=\"text-align: left;\">\n",
       "      <th>epoch</th>\n",
       "      <th>train_loss</th>\n",
       "      <th>valid_loss</th>\n",
       "      <th>dice</th>\n",
       "      <th>jaccard_coeff</th>\n",
       "      <th>foreground_acc</th>\n",
       "      <th>time</th>\n",
       "    </tr>\n",
       "  </thead>\n",
       "  <tbody>\n",
       "    <tr>\n",
       "      <td>0</td>\n",
       "      <td>0.456167</td>\n",
       "      <td>0.792855</td>\n",
       "      <td>0.013121</td>\n",
       "      <td>0.006604</td>\n",
       "      <td>0.993649</td>\n",
       "      <td>00:11</td>\n",
       "    </tr>\n",
       "  </tbody>\n",
       "</table>"
      ],
      "text/plain": [
       "<IPython.core.display.HTML object>"
      ]
     },
     "metadata": {},
     "output_type": "display_data"
    }
   ],
   "source": [
    "# update config\n",
    "cfg._replace(lr=res.valley)\n",
    "cfg._replace(opt=partial(Adam, lr=cfg.lr))\n",
    "\n",
    "learn.fit(1, lr=cfg.lr)"
   ]
  },
  {
   "cell_type": "markdown",
   "id": "11b1c706",
   "metadata": {},
   "source": [
    "### .fit_one_cycle()\n",
    "\n",
    "Per concludere, fastai mette a disposizione alcune utils che implementano strategie di training spesso utilizzate in letteratura ML.\n",
    "\n",
    "Una di queste è il metodo `.fit_one_cycle()` che implementa la **1cycle policy** proposta nell'articolo di [L. Smith, (2018)](https://arxiv.org/abs/1803.09820).\n",
    "\n",
    "L'osservazione di base è che spesso il training finisce per convergere in punti di sella (flessi multidimensionali) e minimi locali nei quali rimane impantanato.\n",
    "Per ovviare a ciò, l'autore suggerisce una strategia di *scheduling* del learning rate all'interno di ciascuna epoch, che favorisce la convergenza verso soluzioni più stabili. \n",
    "\n",
    "![1cycleLR](https://miro.medium.com/max/913/1*fmgYmIAcYd18mqX5Oegc3w.png)\n",
    "\n",
    "In pratica, questo ciclo si compone di 3 parti in cui il learning rate varia:\n",
    "\n",
    " - è tenuto basso all'inizio per avviare la convergenza senza però indirizzarsi addentrarsi fin da subito in un minimo\n",
    " - di seguito viene poi incrementato gradualmente per permettere una maggiore esplorazione della superficie della loss e favorire la convergenza verso un'area più piatta\n",
    " - infine viene ridotto gradualmente per permettere una convergenza verso un minimo prensente in quella zona\n",
    "\n",
    "<div class=\"alert alert-block alert-info\">\n",
    "\n",
    "Per delle spiegazioni informali si suggeriscono questi blog post [[1](https://sgugger.github.io/the-1cycle-policy.html), [2](https://towardsdatascience.com/why-i-use-fastai-and-you-should-too-a421f6c99508)].   \n",
    "</div>"
   ]
  },
  {
   "cell_type": "code",
   "execution_count": 15,
   "id": "2a5e106f",
   "metadata": {
    "ExecuteTime": {
     "end_time": "2022-09-01T08:26:24.727805Z",
     "start_time": "2022-09-01T08:26:13.646069Z"
    }
   },
   "outputs": [
    {
     "data": {
      "text/html": [
       "<table border=\"1\" class=\"dataframe\">\n",
       "  <thead>\n",
       "    <tr style=\"text-align: left;\">\n",
       "      <th>epoch</th>\n",
       "      <th>train_loss</th>\n",
       "      <th>valid_loss</th>\n",
       "      <th>dice</th>\n",
       "      <th>jaccard_coeff</th>\n",
       "      <th>foreground_acc</th>\n",
       "      <th>time</th>\n",
       "    </tr>\n",
       "  </thead>\n",
       "  <tbody>\n",
       "    <tr>\n",
       "      <td>0</td>\n",
       "      <td>0.388504</td>\n",
       "      <td>0.814674</td>\n",
       "      <td>0.013100</td>\n",
       "      <td>0.006593</td>\n",
       "      <td>0.993938</td>\n",
       "      <td>00:11</td>\n",
       "    </tr>\n",
       "  </tbody>\n",
       "</table>"
      ],
      "text/plain": [
       "<IPython.core.display.HTML object>"
      ]
     },
     "metadata": {},
     "output_type": "display_data"
    }
   ],
   "source": [
    "learn.fit_one_cycle(n_epoch=1, lr_max=cfg.lr)"
   ]
  },
  {
   "cell_type": "markdown",
   "id": "b7dacb73",
   "metadata": {},
   "source": [
    "### CUDA Out Of Memory Error"
   ]
  },
  {
   "cell_type": "code",
   "execution_count": null,
   "id": "6c35317d",
   "metadata": {},
   "outputs": [],
   "source": [
    "BS = 256\n",
    "dls = SegmentationDataLoaders.from_label_func(data_path, fnames=get_image_files(\n",
    "    data_path / 'images'), label_func=label_func, bs=BS, device='cuda')\n",
    "\n",
    "learn = Learner(dls, model=model, loss_func=cfg.loss_func,\n",
    "                metrics=[Dice(), JaccardCoeff(), foreground_acc],\n",
    "                cbs=CBS,\n",
    "                path=log_path , \n",
    "                model_dir=f'{log_path.parent.parent}/models/{EXP_NAME}',\n",
    "                )  \n",
    "\n",
    "learn.fit(1, lr=cfg.lr)"
   ]
  },
  {
   "cell_type": "markdown",
   "id": "f901abf3",
   "metadata": {},
   "source": [
    "<div class=\"alert alert-block alert-warning\">\n",
    "\n",
    "Questo codice potrebbe portare ad un errore di tipo `RuntimeError: CUDA out of memory`. \n",
    "Se ciò avviene, la ragione è che la GPU che state usando non ha sufficiente memoria per caricare il modello e un batch. \n",
    "    \n",
    "In generale, questo è un errore che capita spesso di affrontare in esperimenti reali ed è bene avere un'idea di come affrontarlo. \n",
    "Un possibile rimedio è quello di **ridurre la batch size**, riducendo così il peso dei dati caricati in sulla GPU ad ogni batch.\n",
    "Alternativamente, si potrebbe pensare di applicare un pre-processing che riduca la dimensione dei file di input, e.g. fare un crop/resize di dimensioni inferiori nel caso di immagini.\n",
    "Infine, si può provare semplicemente ad usare un modello con meno parametri che quindi occuperà meno spazio in memoria.\n",
    "    \n",
    "Tuttavia, non sempre questi tentativi vanno a buon fine e l'unica soluzione potrebbe essere l'utilizzo di un hardware più performante o il ricorso a CPU anzichè GPU.\n",
    "</div>"
   ]
  }
 ],
 "metadata": {
  "kernelspec": {
   "display_name": "Python 3",
   "language": "python",
   "name": "python3"
  },
  "language_info": {
   "codemirror_mode": {
    "name": "ipython",
    "version": 3
   },
   "file_extension": ".py",
   "mimetype": "text/x-python",
   "name": "python",
   "nbconvert_exporter": "python",
   "pygments_lexer": "ipython3",
   "version": "3.9.6"
  },
  "toc": {
   "base_numbering": 1,
   "nav_menu": {},
   "number_sections": true,
   "sideBar": true,
   "skip_h1_title": false,
   "title_cell": "Table of Contents",
   "title_sidebar": "Contents",
   "toc_cell": false,
   "toc_position": {},
   "toc_section_display": true,
   "toc_window_display": true
  }
 },
 "nbformat": 4,
 "nbformat_minor": 5
}
