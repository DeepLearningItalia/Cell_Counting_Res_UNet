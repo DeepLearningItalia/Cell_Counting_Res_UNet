{
 "cells": [
  {
   "cell_type": "markdown",
   "id": "685c04df",
   "metadata": {},
   "source": [
    "# Training loop\n",
    "\n",
    "In questo notebook analizzeremo i vari passaggi necessari per il training di un modello.\n",
    "\n",
    "In breve, un ciclo di addestramento si caratterizza di 3 fasi:\n",
    "\n",
    " - dataloader\n",
    " - training step\n",
    " - validation step\n",
    " \n",
    "Sebbene la maggior parte delle librerie per ML fornisca delle utils già predisposte per eseguire questi passaggi, avere una panoramica delle varie fasi diventa fondamentale nel caso ci sia bisogno di **modifiche customizzate** e per fini di **debugging**.  "
   ]
  },
  {
   "cell_type": "markdown",
   "id": "08682712",
   "metadata": {},
   "source": [
    "## Dataloader\n",
    "\n",
    "Il `Dataloader` è l'oggetto responsabile di leggere opportunamente i dati, accoppiare opportunamente input ed output, trasferirli dal disco in memoria sotto forma di **batch** e renderli disponibili per il processo di training.\n",
    "\n",
    "La libreria fastai mette a disposizione diversi dataloader che implementano le operazioni fondamentali a seconda del task di learning in esame. Queste implementazioni sono tipicamente già sufficienti per use-case più comuni come il nostro, per questo motivo potremo sfruttare direttamente la classe `SegmentationDataLoaders`.\n",
    "\n",
    "In particolare, potremo usare l'implementazione del metodo `SegmentationDataLoaders.from_label_func()` e fornire semplicemente i blocchi necessari per il suo funzionamento:\n",
    "\n",
    " - *path*: percoso dove sono i dati\n",
    " - *fnames*: lista percorsi di ciascun file di input\n",
    " - *label_func*: funzione che permette di associare a ciascun input la relativa annotazione\n",
    " - *bs*: batch size\n",
    " - *splitter*: funzione che restituisce `True` se il file appartiene al validation set, `False` altrimenti\n",
    " - *item_tfms*: transformazioni da applicare sui singoli file di input, prima del raggruppamento in batch\n",
    " - *batch_tfms*: trasformazioni da applicare a ciascun batch\n",
    " - *device*: dove caricare il batch risultante; \"cuda\" per usare GPU \n",
    "\n",
    "\n"
   ]
  },
  {
   "cell_type": "markdown",
   "id": "ee405dbc",
   "metadata": {},
   "source": [
    "###  Percosi immagini di train e validation"
   ]
  },
  {
   "cell_type": "code",
   "execution_count": 1,
   "id": "378cf035",
   "metadata": {
    "ExecuteTime": {
     "end_time": "2022-08-27T10:31:02.765309Z",
     "start_time": "2022-08-27T10:31:01.533788Z"
    }
   },
   "outputs": [
    {
     "data": {
      "text/plain": [
       "[Path('../fluocells_data/all_images/images/Mar26bS2C1R2_LHl_200x_y.png'),\n",
       " Path('../fluocells_data/all_images/images/Mar26bS1C2R1_VLPAGr_200x_y.png'),\n",
       " Path('../fluocells_data/all_images/images/Mar26bS1C1R4_VLPAGl_200x_y.png'),\n",
       " Path('../fluocells_data/all_images/images/MAR38S1C3R1_DMR_20_o.png'),\n",
       " Path('../fluocells_data/all_images/images/Mar19bS1C4R3_DMl_200x_y.png'),\n",
       " Path('../fluocells_data/all_images/images/Mar20bS2C1R1_LHl_200x_y.png'),\n",
       " Path('../fluocells_data/all_images/images/Mar24bS1C2R3_LHr_200x_y.png'),\n",
       " Path('../fluocells_data/all_images/images/Mar26bS2C2R1_LHr_200x_y.png'),\n",
       " Path('../fluocells_data/all_images/images/Mar21bS1C1R3_VLPAGr_200x_y.png'),\n",
       " Path('../fluocells_data/all_images/images/Mar21bS1C4R2_LHl_200x_y.png'),\n",
       " Path('../fluocells_data/all_images/images/Mar37S1C2R1_DMr_200x_o.png'),\n",
       " Path('../fluocells_data/all_images/images/Mar22bS2C1R1_LHl_200x_y.png'),\n",
       " Path('../fluocells_data/all_images/images/Mar23bS1C2R4_VLPAGl_200x_y.png'),\n",
       " Path('../fluocells_data/all_images/images/Mar26bS2C3R1_LHr_200x_y.png'),\n",
       " Path('../fluocells_data/all_images/images/Mar19bS1C3R3_VLPAGr_200x_y.png'),\n",
       " Path('../fluocells_data/all_images/images/Mar19bS1C2R2_VLPAGl_200x_y.png'),\n",
       " Path('../fluocells_data/all_images/images/Mar21bS2C1R2_LHr_200x_y.png'),\n",
       " Path('../fluocells_data/all_images/images/Mar21bS2C1R1_LHr_200x_y.png'),\n",
       " Path('../fluocells_data/all_images/images/Mar21bS1C2R1_VLPAGl_200x_y.png'),\n",
       " Path('../fluocells_data/all_images/images/Mar19bS2C1R1_DMr_200x_y.png'),\n",
       " Path('../fluocells_data/all_images/images/Mar22bS1C1R3_VLPAGr_200x_y.png'),\n",
       " Path('../fluocells_data/all_images/images/Mar19bS1C4R2_LHr_200x_y.png'),\n",
       " Path('../fluocells_data/all_images/images/Mar24bS2C2R2_VLPAGr_200x_y.png'),\n",
       " Path('../fluocells_data/all_images/images/MAR39S2C2R2_DMR_200x_o.png'),\n",
       " Path('../fluocells_data/all_images/images/MAR55S3C2R2_VLPAGR_20_o.png'),\n",
       " Path('../fluocells_data/all_images/images/Mar24bS1C3R2_LHl_200x_y.png'),\n",
       " Path('../fluocells_data/all_images/images/Mar24bS1C2R2_LHl_200x_y.png'),\n",
       " Path('../fluocells_data/all_images/images/MAR55S3C2R2_VLPAGL_20_o.png'),\n",
       " Path('../fluocells_data/all_images/images/38_y.png'),\n",
       " Path('../fluocells_data/all_images/images/Mar22bS1C1R3_VLPAGl_200x_y.png'),\n",
       " Path('../fluocells_data/all_images/images/Mar20bS1C4R1_DMl_200x_y.png'),\n",
       " Path('../fluocells_data/all_images/images/Mar19bS1C5R3_DMl_200x_y.png'),\n",
       " Path('../fluocells_data/all_images/images/Mar19bS1C4R2_DMr_200x_y.png'),\n",
       " Path('../fluocells_data/all_images/images/Mar22bS1C3R3_LHr_200x_y.png'),\n",
       " Path('../fluocells_data/all_images/images/Mar26bS2C1R1_LHr_200x_y.png'),\n",
       " Path('../fluocells_data/all_images/images/Mar24bS1C2R1_LHl_200x_y.png'),\n",
       " Path('../fluocells_data/all_images/images/Mar23bS1C6R1_DMr_200x_y.png'),\n",
       " Path('../fluocells_data/all_images/images/Mar19bS1C5R1_LHr_200x_y.png'),\n",
       " Path('../fluocells_data/all_images/images/Mar19bS1C2R3_VLPAGl_200x_y.png'),\n",
       " Path('../fluocells_data/all_images/images/Mar36bS1C6R2_DMr_200x_y.png'),\n",
       " Path('../fluocells_data/all_images/images/Mar21bS2C2R2_LHr_200x_y.png'),\n",
       " Path('../fluocells_data/all_images/images/Mar23bS1C5R3_DMr_200x_y.png'),\n",
       " Path('../fluocells_data/all_images/images/Mar27bS1C1R3_VLPAGr_200x_y.png'),\n",
       " Path('../fluocells_data/all_images/images/Mar20bS2C1R3_LHr_200x_y.png'),\n",
       " Path('../fluocells_data/all_images/images/Mar40S3C4R2_VLPAGr_200x_o.png'),\n",
       " Path('../fluocells_data/all_images/images/Mar26bS2C2R3_LHl_200x_y.png'),\n",
       " Path('../fluocells_data/all_images/images/Mar24bS1C1R2_DMl_200x_y.png'),\n",
       " Path('../fluocells_data/all_images/images/Mar21bS2C1R3_DMl_200x_y.png'),\n",
       " Path('../fluocells_data/all_images/images/Mar20bS2C1R3_LHl_200x_y.png'),\n",
       " Path('../fluocells_data/all_images/images/Mar20bS1C4R3_LHl_200x_y.png'),\n",
       " Path('../fluocells_data/all_images/images/MAR38S1C3R1_LHR_20_o.png'),\n",
       " Path('../fluocells_data/all_images/images/Mar24bS1C2R2_DMr_200x_y.png'),\n",
       " Path('../fluocells_data/all_images/images/Mar20bS1C3R1_VLPAGr_200x_y.png'),\n",
       " Path('../fluocells_data/all_images/images/Mar22bS1C4R1_LHr_200x_y.png'),\n",
       " Path('../fluocells_data/all_images/images/Mar22bS1C4R2_LHr_200x_y.png'),\n",
       " Path('../fluocells_data/all_images/images/Mar21bS1C4R2_DMr_200x_y.png'),\n",
       " Path('../fluocells_data/all_images/images/Mar20bS2C1R2_DMr_200x_y.png'),\n",
       " Path('../fluocells_data/all_images/images/MAR38S1C3R1_DML_20_o.png'),\n",
       " Path('../fluocells_data/all_images/images/Mar20bS1C4R1_DMr_200x_y.png'),\n",
       " Path('../fluocells_data/all_images/images/Mar19bS1C4R1_VLPAGr_200x_y.png'),\n",
       " Path('../fluocells_data/all_images/images/Mar21bS2C1R3_DMr_200x_y.png'),\n",
       " Path('../fluocells_data/all_images/images/Mar26bS1C4R3_LHr_200x_y.png'),\n",
       " Path('../fluocells_data/all_images/images/Mar22bS1C4R1_LHl_200x_y.png'),\n",
       " Path('../fluocells_data/all_images/images/Mar21bS1C4R2_DMl_200x_y.png'),\n",
       " Path('../fluocells_data/all_images/images/Mar26bS2C2R2_DMl_200x_y.png'),\n",
       " Path('../fluocells_data/all_images/images/Mar24bS1C2R1_LHr_200x_y.png'),\n",
       " Path('../fluocells_data/all_images/images/Mar24bS1C2R2_DMl_200x_y.png'),\n",
       " Path('../fluocells_data/all_images/images/Mar22bS1C3R2_DMr_200x_y.png'),\n",
       " Path('../fluocells_data/all_images/images/Mar21bS2C2R1_LHl_200x_y.png'),\n",
       " Path('../fluocells_data/all_images/images/Mar26bS1C4R2_LHr_200x_y.png'),\n",
       " Path('../fluocells_data/all_images/images/Mar19bS1C1R3_VLPAGl_200x_y.png'),\n",
       " Path('../fluocells_data/all_images/images/Mar21bS2C2R3_LHl_200x_y.png'),\n",
       " Path('../fluocells_data/all_images/images/Mar26bS1C2R3_VLPAGl_200x_y.png'),\n",
       " Path('../fluocells_data/all_images/images/Mar19bS2C2R1_LHl_200x_y.png'),\n",
       " Path('../fluocells_data/all_images/images/Mar26bS2C1R1_DMl_200x_y.png'),\n",
       " Path('../fluocells_data/all_images/images/Mar41S3C1R1_DMr_200x_o.png'),\n",
       " Path('../fluocells_data/all_images/images/Mar23bS1C6R1_LHl_200x_y.png'),\n",
       " Path('../fluocells_data/all_images/images/Mar23bS1C6R2_LHr_200x_y.png'),\n",
       " Path('../fluocells_data/all_images/images/Mar26bS2C3R1_LHl_200x_y.png'),\n",
       " Path('../fluocells_data/all_images/images/Mar19bS1C4R3_DMr_200x_y.png'),\n",
       " Path('../fluocells_data/all_images/images/Mar24bS2C1R3_VLPAGl_200x_y.png'),\n",
       " Path('../fluocells_data/all_images/images/Mar19bS2C1R2_LHr_200x_y.png'),\n",
       " Path('../fluocells_data/all_images/images/Mar21bS2C2R1_LHr_200x_y.png'),\n",
       " Path('../fluocells_data/all_images/images/Mar20bS2C1R3_DMr_200x_y.png'),\n",
       " Path('../fluocells_data/all_images/images/Mar26bS1C4R3_DMl_200x_y.png'),\n",
       " Path('../fluocells_data/all_images/images/Mar19bS1C2R2_VLPAGr_200x_y.png'),\n",
       " Path('../fluocells_data/all_images/images/Mar22bS2C1R1_LHr_200x_y.png'),\n",
       " Path('../fluocells_data/all_images/images/Mar23bS1C5R3_LHl_200x_y.png'),\n",
       " Path('../fluocells_data/all_images/images/Mar26bS1C2R1_VLPAGl_200x_y.png'),\n",
       " Path('../fluocells_data/all_images/images/Mar24bS1C2R3_DMl_200x_y.png'),\n",
       " Path('../fluocells_data/all_images/images/Mar20bS2C2R3_LHl_200x_y.png'),\n",
       " Path('../fluocells_data/all_images/images/MAR39S2C2R2_DML_200x_o.png'),\n",
       " Path('../fluocells_data/all_images/images/Mar24bS1C1R2_LHl_200x_y.png'),\n",
       " Path('../fluocells_data/all_images/images/Mar26bS1C2R3_VLPAGr_200x_y.png'),\n",
       " Path('../fluocells_data/all_images/images/Mar26bS1C4R3_LHl_200x_y.png'),\n",
       " Path('../fluocells_data/all_images/images/Mar22bS1C5R1_LHl_200x_y.png'),\n",
       " Path('../fluocells_data/all_images/images/Mar20bS1C3R2_VLPAGr_200x_y.png'),\n",
       " Path('../fluocells_data/all_images/images/Mar23bS1C1R4_VLPAGl_200x_y.png'),\n",
       " Path('../fluocells_data/all_images/images/Mar20bS1C2R1_VLPAGl_200x_y.png'),\n",
       " Path('../fluocells_data/all_images/images/Mar26bS1C4R3_DMr_200x_y.png'),\n",
       " Path('../fluocells_data/all_images/images/Mar23bS1C5R2_LHr_200x_y.png'),\n",
       " Path('../fluocells_data/all_images/images/Mar21bS1C2R2_VLPAGl_200x_y.png'),\n",
       " Path('../fluocells_data/all_images/images/Mar22bS1C5R1_LHr_200x_y.png'),\n",
       " Path('../fluocells_data/all_images/images/Mar22bS1C4R2_LHl_200x_y.png'),\n",
       " Path('../fluocells_data/all_images/images/Mar23bS1C2R4_VLPAGr_200x_y.png'),\n",
       " Path('../fluocells_data/all_images/images/Mar42S2C4R2_VLPAGr_200x_o.png'),\n",
       " Path('../fluocells_data/all_images/images/Mar19bS1C3R2_VLPAGl_200x_y.png'),\n",
       " Path('../fluocells_data/all_images/images/37_y.png'),\n",
       " Path('../fluocells_data/all_images/images/Mar19bS1C1R2_VLPAGr_200x_y.png'),\n",
       " Path('../fluocells_data/all_images/images/Mar24bS1C3R2_LHr_200x_y.png'),\n",
       " Path('../fluocells_data/all_images/images/Mar21bS2C2R2_DMr_200x_y.png'),\n",
       " Path('../fluocells_data/all_images/images/Mar22bS1C2R4_DMl_200x_y.png'),\n",
       " Path('../fluocells_data/all_images/images/Mar21bS2C1R2_DMl_200x_y.png'),\n",
       " Path('../fluocells_data/all_images/images/Mar31bS2C3R4_DMr_200x_y.png'),\n",
       " Path('../fluocells_data/all_images/images/Mar22bS1C4R2_DMl_200x_y.png'),\n",
       " Path('../fluocells_data/all_images/images/Mar22bS1C3R3_DMr_200x_y.png'),\n",
       " Path('../fluocells_data/all_images/images/Mar24bS1C1R1_LHl_200x_y.png'),\n",
       " Path('../fluocells_data/all_images/images/Mar20bS2C3R2_LHr_200x_y.png'),\n",
       " Path('../fluocells_data/all_images/images/Mar21bS2C3R2_LHr_200x_y.png'),\n",
       " Path('../fluocells_data/all_images/images/Mar19bS1C4R3_LHr_200x_y.png'),\n",
       " Path('../fluocells_data/all_images/images/Mar24bS2C4R3_DMl_200x_y.png'),\n",
       " Path('../fluocells_data/all_images/images/Mar21bS2C1R3_LHr_200x_y.png'),\n",
       " Path('../fluocells_data/all_images/images/Mar23bS1C6R1_LHr_200x_y.png'),\n",
       " Path('../fluocells_data/all_images/images/Mar23bS1C2R3_VLPAGr_200x_y.png'),\n",
       " Path('../fluocells_data/all_images/images/Mar22bS1C4R3_DMl_200x_y.png'),\n",
       " Path('../fluocells_data/all_images/images/Mar26bS1C4R2_LHl_200x_y.png'),\n",
       " Path('../fluocells_data/all_images/images/Mar24bS1C3R1_LHr_200x_y.png'),\n",
       " Path('../fluocells_data/all_images/images/Mar21bS1C1R2_VLPAGl_200x_y.png'),\n",
       " Path('../fluocells_data/all_images/images/Mar27bS1C2R2_LHr_200x_y.png'),\n",
       " Path('../fluocells_data/all_images/images/Mar24bS2C2R3_VLPAGr_200x_y.png'),\n",
       " Path('../fluocells_data/all_images/images/Mar20bS2C1R3_DMl_200x_y.png'),\n",
       " Path('../fluocells_data/all_images/images/Mar21bS2C2R1_DMr_200x_y.png'),\n",
       " Path('../fluocells_data/all_images/images/Mar20bS2C2R2_DMl_200x_y.png'),\n",
       " Path('../fluocells_data/all_images/images/Mar26bS2C1R2_DMr_200x_y.png'),\n",
       " Path('../fluocells_data/all_images/images/Mar20bS1C2R1_VLPAGr_200x_y.png'),\n",
       " Path('../fluocells_data/all_images/images/Mar22bS1C3R1_DMl_200x_y.png'),\n",
       " Path('../fluocells_data/all_images/images/Mar22bS1C4R3_DMr_200x_y.png'),\n",
       " Path('../fluocells_data/all_images/images/Mar22bS1C4R3_LHr_200x_y.png'),\n",
       " Path('../fluocells_data/all_images/images/Mar21bS2C1R1_LHl_200x_y.png'),\n",
       " Path('../fluocells_data/all_images/images/Mar21bS1C2R3_VLPAGl_200x_y.png'),\n",
       " Path('../fluocells_data/all_images/images/Mar21bS2C2R3_LHr_200x_y.png'),\n",
       " Path('../fluocells_data/all_images/images/Mar24bS1C2R2_LHr_200x_y.png'),\n",
       " Path('../fluocells_data/all_images/images/Mar21bS2C3R2_LHl_200x_y.png'),\n",
       " Path('../fluocells_data/all_images/images/Mar26bS2C1R1_LHl_200x_y.png'),\n",
       " Path('../fluocells_data/all_images/images/Mar41S3C1R1_DMl_200x_o.png'),\n",
       " Path('../fluocells_data/all_images/images/Mar20bS2C1R2_LHr_200x_y.png'),\n",
       " Path('../fluocells_data/all_images/images/Mar20bS1C4R1_LHl_200x_y.png'),\n",
       " Path('../fluocells_data/all_images/images/Mar22bS1C3R3_LHl_200x_y.png'),\n",
       " Path('../fluocells_data/all_images/images/Mar26bS1C1R3_VLPAGr_200x_y.png'),\n",
       " Path('../fluocells_data/all_images/images/MAR52S2C1R3_LHL_20_o.png'),\n",
       " Path('../fluocells_data/all_images/images/Mar22bS1C3R3_DMl_200x_y.png'),\n",
       " Path('../fluocells_data/all_images/images/Mar19bS1C3R1_VLPAGl_200x_y.png'),\n",
       " Path('../fluocells_data/all_images/images/Mar41S3C3R3_VLPAGl_200x_o.png'),\n",
       " Path('../fluocells_data/all_images/images/Mar20bS2C3R1_LHr_200x_y.png'),\n",
       " Path('../fluocells_data/all_images/images/Mar27bS1C2R1_LHl_200x_y.png'),\n",
       " Path('../fluocells_data/all_images/images/Mar20bS2C1R1_DMl_200x_y.png'),\n",
       " Path('../fluocells_data/all_images/images/Mar26bS2C2R1_LHl_200x_y.png'),\n",
       " Path('../fluocells_data/all_images/images/Mar19bS1C5R3_LHl_200x_y.png'),\n",
       " Path('../fluocells_data/all_images/images/Mar19bS1C5R1_LHl_200x_y.png'),\n",
       " Path('../fluocells_data/all_images/images/Mar19bS1C4R3_LHl_200x_y.png'),\n",
       " Path('../fluocells_data/all_images/images/Mar20bS2C2R1_LHl_200x_y.png'),\n",
       " Path('../fluocells_data/all_images/images/Mar21bS2C2R1_DMl_200x_y.png'),\n",
       " Path('../fluocells_data/all_images/images/Mar26bS2C2R2_LHl_200x_y.png'),\n",
       " Path('../fluocells_data/all_images/images/Mar19bS1C4R2_LHl_200x_y.png'),\n",
       " Path('../fluocells_data/all_images/images/Mar42S2C2R2_DMr_200x_o.png'),\n",
       " Path('../fluocells_data/all_images/images/Mar20bS2C1R2_LHl_200x_y.png'),\n",
       " Path('../fluocells_data/all_images/images/Mar26bS2C2R2_LHr_200x_y.png'),\n",
       " Path('../fluocells_data/all_images/images/Mar19bS2C1R2_LHl_200x_y.png'),\n",
       " Path('../fluocells_data/all_images/images/Mar33bS1C4R2_DMl_200x_y.png'),\n",
       " Path('../fluocells_data/all_images/images/Mar23bS1C6R3_LHr_200x_y.png'),\n",
       " Path('../fluocells_data/all_images/images/Mar24bS1C1R1_DMr_200x_y.png'),\n",
       " Path('../fluocells_data/all_images/images/Mar23bS1C1R4_VLPAGr_200x_y.png'),\n",
       " Path('../fluocells_data/all_images/images/Mar22bS1C3R2_DMl_200x_y.png'),\n",
       " Path('../fluocells_data/all_images/images/Mar20bS1C4R1_LHr_200x_y.png'),\n",
       " Path('../fluocells_data/all_images/images/Mar23bS1C5R2_DMr_200x_y.png'),\n",
       " Path('../fluocells_data/all_images/images/Mar23bS1C2R2_VLPAGr_200x_y.png'),\n",
       " Path('../fluocells_data/all_images/images/Mar20bS1C4R3_DMl_200x_y.png'),\n",
       " Path('../fluocells_data/all_images/images/Mar22bS1C4R3_LHl_200x_y.png'),\n",
       " Path('../fluocells_data/all_images/images/Mar32bS2C2R2_DMl_200x_y.png'),\n",
       " Path('../fluocells_data/all_images/images/Mar20bS2C2R2_LHr_200x_y.png'),\n",
       " Path('../fluocells_data/all_images/images/Mar26bS2C1R2_LHr_200x_y.png'),\n",
       " Path('../fluocells_data/all_images/images/Mar23bS1C2R1_VLPAGl_200x_y.png'),\n",
       " Path('../fluocells_data/all_images/images/Mar24bS1C2R3_LHl_200x_y.png'),\n",
       " Path('../fluocells_data/all_images/images/Mar20bS1C1R3_VLPAGr_200x_y.png'),\n",
       " Path('../fluocells_data/all_images/images/Mar24bS2C4R3_LHr_200x_y.png'),\n",
       " Path('../fluocells_data/all_images/images/Mar20bS1C2R3_VLPAGl_200x_y.png'),\n",
       " Path('../fluocells_data/all_images/images/Mar23bS1C5R2_LHl_200x_y.png'),\n",
       " Path('../fluocells_data/all_images/images/Mar22bS1C2R4_DMr_200x_y.png'),\n",
       " Path('../fluocells_data/all_images/images/Mar36bS1C6R2_DMl_200x_y.png'),\n",
       " Path('../fluocells_data/all_images/images/Mar20bS1C2R3_VLPAGr_200x_y.png'),\n",
       " Path('../fluocells_data/all_images/images/Mar19bS1C1R3_VLPAGr_200x_y.png'),\n",
       " Path('../fluocells_data/all_images/images/Mar23bS1C5R3_DMl_200x_y.png'),\n",
       " Path('../fluocells_data/all_images/images/Mar19bS1C4R2_DMl_200x_y.png'),\n",
       " Path('../fluocells_data/all_images/images/Mar21bS1C1R2_VLPAGr_200x_y.png'),\n",
       " Path('../fluocells_data/all_images/images/Mar20bS1C2R2_VLPAGr_200x_y.png'),\n",
       " Path('../fluocells_data/all_images/images/Mar23bS1C2R2_VLPAGl_200x_y.png'),\n",
       " Path('../fluocells_data/all_images/images/Mar21bS2C1R2_DMr_200x_y.png'),\n",
       " Path('../fluocells_data/all_images/images/Mar20bS2C2R2_LHl_200x_y.png'),\n",
       " Path('../fluocells_data/all_images/images/Mar19bS1C5R3_DMr_200x_y.png'),\n",
       " Path('../fluocells_data/all_images/images/Mar20bS2C2R3_LHr_200x_y.png'),\n",
       " Path('../fluocells_data/all_images/images/Mar21bS2C1R3_LHl_200x_y.png'),\n",
       " Path('../fluocells_data/all_images/images/Mar26bS2C1R2_DMl_200x_y.png'),\n",
       " Path('../fluocells_data/all_images/images/Mar26bS1C4R2_DMl_200x_y.png'),\n",
       " Path('../fluocells_data/all_images/images/Mar20bS1C2R2_VLPAGl_200x_y.png'),\n",
       " Path('../fluocells_data/all_images/images/Mar23bS1C2R1_VLPAGr_200x_y.png'),\n",
       " Path('../fluocells_data/all_images/images/Mar20bS1C3R2_VLPAGl_200x_y.png'),\n",
       " Path('../fluocells_data/all_images/images/Mar21bS1C1R3_VLPAGl_200x_y.png'),\n",
       " Path('../fluocells_data/all_images/images/Mar26bS1C1R4_VLPAGr_200x_y.png'),\n",
       " Path('../fluocells_data/all_images/images/Mar23bS1C6R1_DMl_200x_y.png'),\n",
       " Path('../fluocells_data/all_images/images/Mar24bS2C4R3_DMr_200x_y.png'),\n",
       " Path('../fluocells_data/all_images/images/Mar20bS2C1R1_DMr_200x_y.png'),\n",
       " Path('../fluocells_data/all_images/images/Mar19bS1C5R3_LHr_200x_y.png'),\n",
       " Path('../fluocells_data/all_images/images/Mar19bS1C5R2_DMl_200x_y.png'),\n",
       " Path('../fluocells_data/all_images/images/Mar43S1C5R3_DMr_200x_o.png'),\n",
       " Path('../fluocells_data/all_images/images/Mar24bS1C1R1_DMl_200x_y.png'),\n",
       " Path('../fluocells_data/all_images/images/MAR55S1C5R3_DMR_20_o.png'),\n",
       " Path('../fluocells_data/all_images/images/Mar23bS1C6R2_LHl_200x_y.png'),\n",
       " Path('../fluocells_data/all_images/images/Mar22bS1C4R2_DMr_200x_y.png'),\n",
       " Path('../fluocells_data/all_images/images/Mar21bS2C2R2_LHl_200x_y.png'),\n",
       " Path('../fluocells_data/all_images/images/Mar33bS1C4R2_DMr_200x_y.png'),\n",
       " Path('../fluocells_data/all_images/images/Mar24bS1C2R1_DMl_200x_y.png'),\n",
       " Path('../fluocells_data/all_images/images/Mar19bS1C5R2_LHl_200x_y.png'),\n",
       " Path('../fluocells_data/all_images/images/Mar20bS1C1R3_VLPAGl_200x_y.png'),\n",
       " Path('../fluocells_data/all_images/images/Mar20bS1C3R1_VLPAGl_200x_y.png'),\n",
       " Path('../fluocells_data/all_images/images/Mar27bS1C2R1_LHr_200x_y.png'),\n",
       " Path('../fluocells_data/all_images/images/Mar20bS1C4R3_LHr_200x_y.png'),\n",
       " Path('../fluocells_data/all_images/images/Mar27bS1C3R1_LHr_200x_y.png'),\n",
       " Path('../fluocells_data/all_images/images/Mar26bS2C2R3_LHr_200x_y.png'),\n",
       " Path('../fluocells_data/all_images/images/Mar23bS1C5R3_LHr_200x_y.png'),\n",
       " Path('../fluocells_data/all_images/images/Mar19bS2C1R1_DMl_200x_y.png'),\n",
       " Path('../fluocells_data/all_images/images/Mar24bS2C2R3_VLPAGl_200x_y.png'),\n",
       " Path('../fluocells_data/all_images/images/Mar24bS1C1R1_LHr_200x_y.png'),\n",
       " Path('../fluocells_data/all_images/images/Mar20bS2C3R1_LHl_200x_y.png'),\n",
       " Path('../fluocells_data/all_images/images/Mar19bS1C5R2_LHr_200x_y.png'),\n",
       " Path('../fluocells_data/all_images/images/Mar40S1C2R2_DMr_200x_o.png'),\n",
       " Path('../fluocells_data/all_images/images/Mar20bS2C1R1_LHr_200x_y.png'),\n",
       " Path('../fluocells_data/all_images/images/Mar19bS1C5R2_DMr_200x_y.png'),\n",
       " Path('../fluocells_data/all_images/images/Mar40S1C2R2_DMl_200x_o.png'),\n",
       " Path('../fluocells_data/all_images/images/Mar24bS2C1R3_VLPAGr_200x_y.png'),\n",
       " Path('../fluocells_data/all_images/images/Mar19bS1C2R3_VLPAGr_200x_y.png'),\n",
       " Path('../fluocells_data/all_images/images/Mar26bS1C2R2_VLPAGr_200x_y.png'),\n",
       " Path('../fluocells_data/all_images/images/Mar23bS1C6R2_DMr_200x_y.png'),\n",
       " Path('../fluocells_data/all_images/images/Mar20bS2C1R2_DMl_200x_y.png'),\n",
       " Path('../fluocells_data/all_images/images/Mar33bS2C1R1_DMl_200x_y.png'),\n",
       " Path('../fluocells_data/all_images/images/Mar19bS2C1R1_LHl_200x_y.png'),\n",
       " Path('../fluocells_data/all_images/images/Mar19bS1C5R1_DMl_200x_y.png'),\n",
       " Path('../fluocells_data/all_images/images/Mar23bS1C5R2_DMl_200x_y.png'),\n",
       " Path('../fluocells_data/all_images/images/Mar21bS2C2R2_DMl_200x_y.png'),\n",
       " Path('../fluocells_data/all_images/images/Mar20bS1C4R3_DMr_200x_y.png'),\n",
       " Path('../fluocells_data/all_images/images/Mar19bS1C4R1_VLPAGl_200x_y.png'),\n",
       " Path('../fluocells_data/all_images/images/Mar20bS2C2R2_DMr_200x_y.png'),\n",
       " Path('../fluocells_data/all_images/images/Mar24bS1C1R2_DMr_200x_y.png'),\n",
       " Path('../fluocells_data/all_images/images/Mar21bS2C1R2_LHl_200x_y.png'),\n",
       " Path('../fluocells_data/all_images/images/Mar23bS2C1R1_LHl_200x_y.png'),\n",
       " Path('../fluocells_data/all_images/images/Mar31bS2C1R2_VLPAGr_200x_y.png')]"
      ]
     },
     "execution_count": 1,
     "metadata": {},
     "output_type": "execute_result"
    }
   ],
   "source": [
    "from fastai.vision.all import *\n",
    "\n",
    "data_path = Path('../fluocells_data/all_images')\n",
    "\n",
    "# read train/valid/test split dataframe\n",
    "split_df = pd.read_csv(data_path.parent / 'split_df.csv')\n",
    "trainval_fnames = [data_path / 'images' / fn\n",
    "                   for fn in split_df.query(\"split=='train' or split=='valid'\").filename]\n",
    "\n",
    "trainval_fnames"
   ]
  },
  {
   "cell_type": "markdown",
   "id": "ea9f8abe",
   "metadata": {},
   "source": [
    "### label_func"
   ]
  },
  {
   "cell_type": "code",
   "execution_count": 2,
   "id": "4920bca8",
   "metadata": {
    "ExecuteTime": {
     "end_time": "2022-08-27T10:31:02.768325Z",
     "start_time": "2022-08-27T10:31:02.766379Z"
    }
   },
   "outputs": [],
   "source": [
    "def label_func(p):\n",
    "    return Path(str(p).replace('images', 'masks'))"
   ]
  },
  {
   "cell_type": "code",
   "execution_count": 3,
   "id": "f9acd47a",
   "metadata": {
    "ExecuteTime": {
     "end_time": "2022-08-27T10:31:02.778891Z",
     "start_time": "2022-08-27T10:31:02.769606Z"
    }
   },
   "outputs": [
    {
     "name": "stdout",
     "output_type": "stream",
     "text": [
      "Esempio:\n",
      "\n",
      "Input: ../fluocells_data/all_images/images/Mar26bS2C1R2_LHl_200x_y.png\n",
      "Output: ../fluocells_data/all_masks/masks/Mar26bS2C1R2_LHl_200x_y.png\n"
     ]
    }
   ],
   "source": [
    "print('Esempio:\\n')\n",
    "\n",
    "print(f'Input: {trainval_fnames[0]}')\n",
    "print(f'Output: {label_func(trainval_fnames[0])}')"
   ]
  },
  {
   "cell_type": "markdown",
   "id": "10bea112",
   "metadata": {},
   "source": [
    "### Splitter"
   ]
  },
  {
   "cell_type": "code",
   "execution_count": 4,
   "id": "60a906df",
   "metadata": {
    "ExecuteTime": {
     "end_time": "2022-08-27T10:31:02.794239Z",
     "start_time": "2022-08-27T10:31:02.779968Z"
    }
   },
   "outputs": [
    {
     "name": "stdout",
     "output_type": "stream",
     "text": [
      "split dataframe:\n",
      "      img_id                     filename  split\n",
      "81       81   Mar41S3C1R1_DMr_200x_o.png  train\n",
      "194     194  Mar32bS2C2R2_DMl_200x_y.png  train\n",
      "196     196  Mar26bS2C1R2_LHr_200x_y.png  valid\n",
      "248     248  Mar27bS1C2R1_LHr_200x_y.png  valid\n",
      "splitter:\n",
      "\n",
      "../fluocells_data/all_images/images/Mar32bS2C2R2_DMl_200x_y.png \tvalidation set: False\n",
      "../fluocells_data/all_images/images/Mar27bS1C2R1_LHr_200x_y.png \tvalidation set: True\n",
      "../fluocells_data/all_images/images/Mar26bS2C1R2_LHr_200x_y.png \tvalidation set: True\n",
      "../fluocells_data/all_images/images/Mar41S3C1R1_DMr_200x_o.png \tvalidation set: False\n"
     ]
    }
   ],
   "source": [
    "sample_img_names = ['Mar32bS2C2R2_DMl_200x_y.png', 'Mar27bS1C2R1_LHr_200x_y.png',\n",
    "                    'Mar26bS2C1R2_LHr_200x_y.png', 'Mar41S3C1R1_DMr_200x_o.png']\n",
    "\n",
    "print('split dataframe:\\n', split_df.loc[split_df.filename.isin(sample_img_names)])\n",
    "\n",
    "def is_valid(p):\n",
    "    return split_df.loc[split_df.filename == p.name, 'split'].values[0] == 'valid'\n",
    "\n",
    "print('splitter:\\n')\n",
    "for fn in sample_img_names:\n",
    "    print(data_path / 'images' / fn, '\\tvalidation set:', is_valid(data_path / 'images' / fn))"
   ]
  },
  {
   "cell_type": "markdown",
   "id": "f459ecee",
   "metadata": {},
   "source": [
    "### Transforms"
   ]
  },
  {
   "cell_type": "markdown",
   "id": "99747735",
   "metadata": {},
   "source": [
    "### Dataloader "
   ]
  },
  {
   "cell_type": "code",
   "execution_count": 6,
   "id": "251ec164",
   "metadata": {
    "ExecuteTime": {
     "end_time": "2022-08-27T10:31:14.928379Z",
     "start_time": "2022-08-27T10:31:11.882923Z"
    }
   },
   "outputs": [
    {
     "name": "stderr",
     "output_type": "stream",
     "text": [
      "/home/luca/anaconda3/envs/fx/lib/python3.9/site-packages/torch/_tensor.py:1051: UserWarning: __floordiv__ is deprecated, and its behavior will change in a future version of pytorch. It currently rounds toward 0 (like the 'trunc' function NOT 'floor'). This results in incorrect rounding for negative values. To keep the current behavior, use torch.div(a, b, rounding_mode='trunc'), or for actual floor division, use torch.div(a, b, rounding_mode='floor').\n",
      "  ret = func(*args, **kwargs)\n"
     ]
    },
    {
     "name": "stdout",
     "output_type": "stream",
     "text": [
      "torch.Size([2, 3, 224, 224]) torch.Size([2, 224, 224])\n"
     ]
    },
    {
     "data": {
      "text/plain": [
       "(TensorImage(9.8221e-08, device='cuda:0'),\n",
       " TensorImage(0.9783, device='cuda:0'),\n",
       " TensorMask(0, device='cuda:0'),\n",
       " TensorMask(1, device='cuda:0'))"
      ]
     },
     "execution_count": 6,
     "metadata": {},
     "output_type": "execute_result"
    }
   ],
   "source": [
    "# augmentation\n",
    "tfms = [\n",
    "    IntToFloatTensor(div_mask=255.),  # need masks in [0, 1] format\n",
    "    RandomCrop(512),\n",
    "    *aug_transforms(\n",
    "        size=224, # resize\n",
    "        max_lighting=0.1, p_lighting=0.5, # variazione luminosità\n",
    "        min_zoom=0.9, max_zoom=1.1, # zoom\n",
    "        max_warp=0, # distorsione\n",
    "        max_rotate=15.0 # rotazione\n",
    "    )\n",
    "]\n",
    "\n",
    "\n",
    "# splitter\n",
    "splitter = FuncSplitter(lambda p: is_valid(p))\n",
    "# alternative: random splitter\n",
    "# RandomSplitter(valid_pct=0.3, seed=42),\n",
    "\n",
    "# dataloader\n",
    "dls = SegmentationDataLoaders.from_label_func(\n",
    "    data_path, fnames=trainval_fnames, label_func=label_func,\n",
    "    bs=2,\n",
    "    splitter=splitter,\n",
    "    #     item_tfms=pre_tfms,\n",
    "    batch_tfms=tfms,\n",
    "    device='cuda'\n",
    ")\n",
    "\n",
    "# test\n",
    "x, y = dls.one_batch()\n",
    "print(x.shape, y.shape)\n",
    "x.min(), x.max(), y.min(), y.max()"
   ]
  }
 ],
 "metadata": {
  "kernelspec": {
   "display_name": "Python 3",
   "language": "python",
   "name": "python3"
  },
  "language_info": {
   "codemirror_mode": {
    "name": "ipython",
    "version": 3
   },
   "file_extension": ".py",
   "mimetype": "text/x-python",
   "name": "python",
   "nbconvert_exporter": "python",
   "pygments_lexer": "ipython3",
   "version": "3.9.6"
  },
  "toc": {
   "base_numbering": 1,
   "nav_menu": {},
   "number_sections": true,
   "sideBar": true,
   "skip_h1_title": false,
   "title_cell": "Table of Contents",
   "title_sidebar": "Contents",
   "toc_cell": false,
   "toc_position": {},
   "toc_section_display": true,
   "toc_window_display": false
  }
 },
 "nbformat": 4,
 "nbformat_minor": 5
}
