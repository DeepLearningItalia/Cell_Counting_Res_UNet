{
 "cells": [
  {
   "cell_type": "markdown",
   "id": "685c04df",
   "metadata": {},
   "source": [
    "# Esperimento loss function: CombinedLoss\n",
    "\n",
    "Nei notebook precedenti abbiamo visto come sia la *Dice* che la *Focal* loss presentino, almeno in teoria, delle aspetti metodologici più opportuni per il nostro problema rispetto ad altre loss function (e.g. BCE).\n",
    "\n",
    "Come task per l'esame di questo corso, la sfida è quella di sperimentare con una nuova loss ottenuta come combinazione delle due menzionate sopra. In particolare:\n",
    "\n",
    " - deve combinare le due quantità additivamente\n",
    " - la componente *Dice* deve essere opportunamente pesata da un fattore parametrizzabile *alpha*:\n",
    " \n",
    " $$CombinedLoss = FocalLoss(y_{\\text{pred}}, y) + \\alpha \\cdot DiceLoss(y_{\\text{pred}}, y)$$\n",
    " \n",
    " "
   ]
  }
 ],
 "metadata": {
  "kernelspec": {
   "display_name": "Python 3",
   "language": "python",
   "name": "python3"
  },
  "language_info": {
   "codemirror_mode": {
    "name": "ipython",
    "version": 3
   },
   "file_extension": ".py",
   "mimetype": "text/x-python",
   "name": "python",
   "nbconvert_exporter": "python",
   "pygments_lexer": "ipython3",
   "version": "3.9.6"
  },
  "toc": {
   "base_numbering": 1,
   "nav_menu": {},
   "number_sections": true,
   "sideBar": true,
   "skip_h1_title": false,
   "title_cell": "Table of Contents",
   "title_sidebar": "Contents",
   "toc_cell": false,
   "toc_position": {
    "height": "calc(100% - 180px)",
    "left": "10px",
    "top": "150px",
    "width": "192px"
   },
   "toc_section_display": true,
   "toc_window_display": true
  }
 },
 "nbformat": 4,
 "nbformat_minor": 5
}
